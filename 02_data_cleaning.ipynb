{
 "cells": [
  {
   "cell_type": "markdown",
   "metadata": {},
   "source": [
    "# Data Cleaning part II"
   ]
  },
  {
   "cell_type": "markdown",
   "metadata": {},
   "source": [
    "After gathering and combining the tweets, it was important to remove null values in order to create a VADER-based sentiment analysis for data exploration."
   ]
  },
  {
   "cell_type": "code",
   "execution_count": 100,
   "metadata": {},
   "outputs": [],
   "source": [
    "import pandas as pd  \n",
    "import numpy as np\n",
    "import matplotlib.pyplot as plt\n",
    "plt.style.use('fivethirtyeight')\n",
    "\n",
    "%matplotlib inline\n",
    "%config InlineBackend.figure_format = 'retina'"
   ]
  },
  {
   "cell_type": "code",
   "execution_count": 101,
   "metadata": {
    "scrolled": true
   },
   "outputs": [
    {
     "data": {
      "text/html": [
       "<div>\n",
       "<style scoped>\n",
       "    .dataframe tbody tr th:only-of-type {\n",
       "        vertical-align: middle;\n",
       "    }\n",
       "\n",
       "    .dataframe tbody tr th {\n",
       "        vertical-align: top;\n",
       "    }\n",
       "\n",
       "    .dataframe thead th {\n",
       "        text-align: right;\n",
       "    }\n",
       "</style>\n",
       "<table border=\"1\" class=\"dataframe\">\n",
       "  <thead>\n",
       "    <tr style=\"text-align: right;\">\n",
       "      <th></th>\n",
       "      <th>Unnamed: 0</th>\n",
       "      <th>Unnamed: 0.1</th>\n",
       "      <th>id</th>\n",
       "      <th>time</th>\n",
       "      <th>tweet</th>\n",
       "      <th>hashtags</th>\n",
       "      <th>cashtags</th>\n",
       "    </tr>\n",
       "  </thead>\n",
       "  <tbody>\n",
       "    <tr>\n",
       "      <th>0</th>\n",
       "      <td>0</td>\n",
       "      <td>0</td>\n",
       "      <td>1.15135E+18</td>\n",
       "      <td>21:25:13</td>\n",
       "      <td>Wow, my dad yday: “you don’t take those stupid...</td>\n",
       "      <td>[]</td>\n",
       "      <td>[]</td>\n",
       "    </tr>\n",
       "    <tr>\n",
       "      <th>1</th>\n",
       "      <td>1</td>\n",
       "      <td>1</td>\n",
       "      <td>1.15135E+18</td>\n",
       "      <td>21:25:07</td>\n",
       "      <td>what part of this was really harmfult of a lot...</td>\n",
       "      <td>[]</td>\n",
       "      <td>[]</td>\n",
       "    </tr>\n",
       "    <tr>\n",
       "      <th>2</th>\n",
       "      <td>2</td>\n",
       "      <td>2</td>\n",
       "      <td>1.15135E+18</td>\n",
       "      <td>21:25:06</td>\n",
       "      <td>one of the ways I got through my #depression i...</td>\n",
       "      <td>['#depression', '#uncoveringthenewu', '#change...</td>\n",
       "      <td>[]</td>\n",
       "    </tr>\n",
       "    <tr>\n",
       "      <th>3</th>\n",
       "      <td>3</td>\n",
       "      <td>3</td>\n",
       "      <td>1.15135E+18</td>\n",
       "      <td>21:24:55</td>\n",
       "      <td>see i wanna do one of them but they all say th...</td>\n",
       "      <td>[]</td>\n",
       "      <td>[]</td>\n",
       "    </tr>\n",
       "    <tr>\n",
       "      <th>4</th>\n",
       "      <td>4</td>\n",
       "      <td>4</td>\n",
       "      <td>1.15135E+18</td>\n",
       "      <td>21:24:51</td>\n",
       "      <td>IS IT clinical depression or is it the palpabl...</td>\n",
       "      <td>[]</td>\n",
       "      <td>[]</td>\n",
       "    </tr>\n",
       "    <tr>\n",
       "      <th>...</th>\n",
       "      <td>...</td>\n",
       "      <td>...</td>\n",
       "      <td>...</td>\n",
       "      <td>...</td>\n",
       "      <td>...</td>\n",
       "      <td>...</td>\n",
       "      <td>...</td>\n",
       "    </tr>\n",
       "    <tr>\n",
       "      <th>160354</th>\n",
       "      <td>160354</td>\n",
       "      <td>NaN</td>\n",
       "      <td>1.15092e+18</td>\n",
       "      <td>17:00:17</td>\n",
       "      <td>Depression is real</td>\n",
       "      <td>[]</td>\n",
       "      <td>[]</td>\n",
       "    </tr>\n",
       "    <tr>\n",
       "      <th>160355</th>\n",
       "      <td>160355</td>\n",
       "      <td>NaN</td>\n",
       "      <td>1.15092e+18</td>\n",
       "      <td>17:00:13</td>\n",
       "      <td>Even though Tropical Depression Barry did not ...</td>\n",
       "      <td>[]</td>\n",
       "      <td>[]</td>\n",
       "    </tr>\n",
       "    <tr>\n",
       "      <th>160356</th>\n",
       "      <td>160356</td>\n",
       "      <td>NaN</td>\n",
       "      <td>1.15092e+18</td>\n",
       "      <td>17:00:10</td>\n",
       "      <td>https://medtally.com/post/cluster-analysis-wi...</td>\n",
       "      <td>['#depression', '#depressed', '#antidepressant...</td>\n",
       "      <td>[]</td>\n",
       "    </tr>\n",
       "    <tr>\n",
       "      <th>160357</th>\n",
       "      <td>160357</td>\n",
       "      <td>NaN</td>\n",
       "      <td>1.15092e+18</td>\n",
       "      <td>17:00:09</td>\n",
       "      <td>مش لاقى أى مبرر لل sudden depression attack ال...</td>\n",
       "      <td>[]</td>\n",
       "      <td>[]</td>\n",
       "    </tr>\n",
       "    <tr>\n",
       "      <th>160358</th>\n",
       "      <td>160358</td>\n",
       "      <td>NaN</td>\n",
       "      <td>1.15092e+18</td>\n",
       "      <td>17:00:05</td>\n",
       "      <td>New clinical trial for #depression: Task Shift...</td>\n",
       "      <td>['#depression']</td>\n",
       "      <td>[]</td>\n",
       "    </tr>\n",
       "  </tbody>\n",
       "</table>\n",
       "<p>160359 rows × 7 columns</p>\n",
       "</div>"
      ],
      "text/plain": [
       "        Unnamed: 0 Unnamed: 0.1           id      time  \\\n",
       "0                0            0  1.15135E+18  21:25:13   \n",
       "1                1            1  1.15135E+18  21:25:07   \n",
       "2                2            2  1.15135E+18  21:25:06   \n",
       "3                3            3  1.15135E+18  21:24:55   \n",
       "4                4            4  1.15135E+18  21:24:51   \n",
       "...            ...          ...          ...       ...   \n",
       "160354      160354          NaN  1.15092e+18  17:00:17   \n",
       "160355      160355          NaN  1.15092e+18  17:00:13   \n",
       "160356      160356          NaN  1.15092e+18  17:00:10   \n",
       "160357      160357          NaN  1.15092e+18  17:00:09   \n",
       "160358      160358          NaN  1.15092e+18  17:00:05   \n",
       "\n",
       "                                                    tweet  \\\n",
       "0       Wow, my dad yday: “you don’t take those stupid...   \n",
       "1       what part of this was really harmfult of a lot...   \n",
       "2       one of the ways I got through my #depression i...   \n",
       "3       see i wanna do one of them but they all say th...   \n",
       "4       IS IT clinical depression or is it the palpabl...   \n",
       "...                                                   ...   \n",
       "160354                                 Depression is real   \n",
       "160355  Even though Tropical Depression Barry did not ...   \n",
       "160356   https://medtally.com/post/cluster-analysis-wi...   \n",
       "160357  مش لاقى أى مبرر لل sudden depression attack ال...   \n",
       "160358  New clinical trial for #depression: Task Shift...   \n",
       "\n",
       "                                                 hashtags cashtags  \n",
       "0                                                      []       []  \n",
       "1                                                      []       []  \n",
       "2       ['#depression', '#uncoveringthenewu', '#change...       []  \n",
       "3                                                      []       []  \n",
       "4                                                      []       []  \n",
       "...                                                   ...      ...  \n",
       "160354                                                 []       []  \n",
       "160355                                                 []       []  \n",
       "160356  ['#depression', '#depressed', '#antidepressant...       []  \n",
       "160357                                                 []       []  \n",
       "160358                                    ['#depression']       []  \n",
       "\n",
       "[160359 rows x 7 columns]"
      ]
     },
     "execution_count": 101,
     "metadata": {},
     "output_type": "execute_result"
    }
   ],
   "source": [
    "pd.read_csv('depressive_unigram_tweets_final.csv')"
   ]
  },
  {
   "cell_type": "code",
   "execution_count": 102,
   "metadata": {},
   "outputs": [
    {
     "name": "stderr",
     "output_type": "stream",
     "text": [
      "[nltk_data] <urlopen error [Errno 11001] getaddrinfo failed>\n"
     ]
    }
   ],
   "source": [
    "\n",
    "import nltk\n",
    "nltk.download(['punkt','stopwords'])\n",
    "from nltk.corpus import stopwords\n",
    "stopwords = stopwords.words('english')\n",
    "\n",
    "from vaderSentiment.vaderSentiment import SentimentIntensityAnalyzer\n",
    "analyzer = SentimentIntensityAnalyzer()"
   ]
  },
  {
   "cell_type": "code",
   "execution_count": 103,
   "metadata": {},
   "outputs": [],
   "source": [
    "df2 = pd.read_csv('depressive_unigram_tweets_final.csv')"
   ]
  },
  {
   "cell_type": "code",
   "execution_count": 106,
   "metadata": {},
   "outputs": [
    {
     "data": {
      "text/html": [
       "<div>\n",
       "<style scoped>\n",
       "    .dataframe tbody tr th:only-of-type {\n",
       "        vertical-align: middle;\n",
       "    }\n",
       "\n",
       "    .dataframe tbody tr th {\n",
       "        vertical-align: top;\n",
       "    }\n",
       "\n",
       "    .dataframe thead th {\n",
       "        text-align: right;\n",
       "    }\n",
       "</style>\n",
       "<table border=\"1\" class=\"dataframe\">\n",
       "  <thead>\n",
       "    <tr style=\"text-align: right;\">\n",
       "      <th></th>\n",
       "      <th>Unnamed: 0</th>\n",
       "      <th>Unnamed: 0.1</th>\n",
       "      <th>id</th>\n",
       "      <th>time</th>\n",
       "      <th>tweet</th>\n",
       "      <th>hashtags</th>\n",
       "      <th>cashtags</th>\n",
       "    </tr>\n",
       "  </thead>\n",
       "  <tbody>\n",
       "    <tr>\n",
       "      <th>0</th>\n",
       "      <td>0</td>\n",
       "      <td>0</td>\n",
       "      <td>1.15135E+18</td>\n",
       "      <td>21:25:13</td>\n",
       "      <td>Wow, my dad yday: “you don’t take those stupid...</td>\n",
       "      <td>[]</td>\n",
       "      <td>[]</td>\n",
       "    </tr>\n",
       "    <tr>\n",
       "      <th>1</th>\n",
       "      <td>1</td>\n",
       "      <td>1</td>\n",
       "      <td>1.15135E+18</td>\n",
       "      <td>21:25:07</td>\n",
       "      <td>what part of this was really harmfult of a lot...</td>\n",
       "      <td>[]</td>\n",
       "      <td>[]</td>\n",
       "    </tr>\n",
       "    <tr>\n",
       "      <th>2</th>\n",
       "      <td>2</td>\n",
       "      <td>2</td>\n",
       "      <td>1.15135E+18</td>\n",
       "      <td>21:25:06</td>\n",
       "      <td>one of the ways I got through my #depression i...</td>\n",
       "      <td>['#depression', '#uncoveringthenewu', '#change...</td>\n",
       "      <td>[]</td>\n",
       "    </tr>\n",
       "    <tr>\n",
       "      <th>3</th>\n",
       "      <td>3</td>\n",
       "      <td>3</td>\n",
       "      <td>1.15135E+18</td>\n",
       "      <td>21:24:55</td>\n",
       "      <td>see i wanna do one of them but they all say th...</td>\n",
       "      <td>[]</td>\n",
       "      <td>[]</td>\n",
       "    </tr>\n",
       "    <tr>\n",
       "      <th>4</th>\n",
       "      <td>4</td>\n",
       "      <td>4</td>\n",
       "      <td>1.15135E+18</td>\n",
       "      <td>21:24:51</td>\n",
       "      <td>IS IT clinical depression or is it the palpabl...</td>\n",
       "      <td>[]</td>\n",
       "      <td>[]</td>\n",
       "    </tr>\n",
       "  </tbody>\n",
       "</table>\n",
       "</div>"
      ],
      "text/plain": [
       "   Unnamed: 0 Unnamed: 0.1           id      time  \\\n",
       "0           0            0  1.15135E+18  21:25:13   \n",
       "1           1            1  1.15135E+18  21:25:07   \n",
       "2           2            2  1.15135E+18  21:25:06   \n",
       "3           3            3  1.15135E+18  21:24:55   \n",
       "4           4            4  1.15135E+18  21:24:51   \n",
       "\n",
       "                                               tweet  \\\n",
       "0  Wow, my dad yday: “you don’t take those stupid...   \n",
       "1  what part of this was really harmfult of a lot...   \n",
       "2  one of the ways I got through my #depression i...   \n",
       "3  see i wanna do one of them but they all say th...   \n",
       "4  IS IT clinical depression or is it the palpabl...   \n",
       "\n",
       "                                            hashtags cashtags  \n",
       "0                                                 []       []  \n",
       "1                                                 []       []  \n",
       "2  ['#depression', '#uncoveringthenewu', '#change...       []  \n",
       "3                                                 []       []  \n",
       "4                                                 []       []  "
      ]
     },
     "execution_count": 106,
     "metadata": {},
     "output_type": "execute_result"
    }
   ],
   "source": [
    "df2.head()"
   ]
  },
  {
   "cell_type": "code",
   "execution_count": 105,
   "metadata": {},
   "outputs": [
    {
     "data": {
      "text/plain": [
       "True"
      ]
     },
     "execution_count": 105,
     "metadata": {},
     "output_type": "execute_result"
    }
   ],
   "source": [
    "df2.isnull().any().any()  "
   ]
  },
  {
   "cell_type": "code",
   "execution_count": 107,
   "metadata": {},
   "outputs": [
    {
     "name": "stdout",
     "output_type": "stream",
     "text": [
      "<class 'pandas.core.frame.DataFrame'>\n",
      "RangeIndex: 160359 entries, 0 to 160358\n",
      "Data columns (total 7 columns):\n",
      " #   Column        Non-Null Count   Dtype \n",
      "---  ------        --------------   ----- \n",
      " 0   Unnamed: 0    160359 non-null  int64 \n",
      " 1   Unnamed: 0.1  135497 non-null  object\n",
      " 2   id            160349 non-null  object\n",
      " 3   time          160349 non-null  object\n",
      " 4   tweet         160336 non-null  object\n",
      " 5   hashtags      160323 non-null  object\n",
      " 6   cashtags      160323 non-null  object\n",
      "dtypes: int64(1), object(6)\n",
      "memory usage: 8.6+ MB\n"
     ]
    }
   ],
   "source": [
    "df2.info(null_counts=True) "
   ]
  },
  {
   "cell_type": "code",
   "execution_count": 108,
   "metadata": {},
   "outputs": [],
   "source": [
    "df_new = df2[df2['tweet'].notnull()]"
   ]
  },
  {
   "cell_type": "code",
   "execution_count": 109,
   "metadata": {},
   "outputs": [
    {
     "name": "stdout",
     "output_type": "stream",
     "text": [
      "<class 'pandas.core.frame.DataFrame'>\n",
      "Int64Index: 160336 entries, 0 to 160358\n",
      "Data columns (total 7 columns):\n",
      " #   Column        Non-Null Count   Dtype \n",
      "---  ------        --------------   ----- \n",
      " 0   Unnamed: 0    160336 non-null  int64 \n",
      " 1   Unnamed: 0.1  135474 non-null  object\n",
      " 2   id            160336 non-null  object\n",
      " 3   time          160336 non-null  object\n",
      " 4   tweet         160336 non-null  object\n",
      " 5   hashtags      160323 non-null  object\n",
      " 6   cashtags      160323 non-null  object\n",
      "dtypes: int64(1), object(6)\n",
      "memory usage: 9.8+ MB\n"
     ]
    }
   ],
   "source": [
    "df_new.info(null_counts=True)"
   ]
  },
  {
   "cell_type": "code",
   "execution_count": 110,
   "metadata": {},
   "outputs": [
    {
     "data": {
      "text/plain": [
       "True"
      ]
     },
     "execution_count": 110,
     "metadata": {},
     "output_type": "execute_result"
    }
   ],
   "source": [
    "df_new.isnull().any().any() "
   ]
  },
  {
   "cell_type": "code",
   "execution_count": 111,
   "metadata": {},
   "outputs": [],
   "source": [
    "df_new['clean_tweet'] = df_new['tweet'].apply(lambda x: ' '.join([item for item in x.split() if item not in stopwords])) "
   ]
  },
  {
   "cell_type": "code",
   "execution_count": 112,
   "metadata": {},
   "outputs": [
    {
     "data": {
      "text/html": [
       "<div>\n",
       "<style scoped>\n",
       "    .dataframe tbody tr th:only-of-type {\n",
       "        vertical-align: middle;\n",
       "    }\n",
       "\n",
       "    .dataframe tbody tr th {\n",
       "        vertical-align: top;\n",
       "    }\n",
       "\n",
       "    .dataframe thead th {\n",
       "        text-align: right;\n",
       "    }\n",
       "</style>\n",
       "<table border=\"1\" class=\"dataframe\">\n",
       "  <thead>\n",
       "    <tr style=\"text-align: right;\">\n",
       "      <th></th>\n",
       "      <th>Unnamed: 0</th>\n",
       "      <th>Unnamed: 0.1</th>\n",
       "      <th>id</th>\n",
       "      <th>time</th>\n",
       "      <th>tweet</th>\n",
       "      <th>hashtags</th>\n",
       "      <th>cashtags</th>\n",
       "      <th>clean_tweet</th>\n",
       "    </tr>\n",
       "  </thead>\n",
       "  <tbody>\n",
       "    <tr>\n",
       "      <th>0</th>\n",
       "      <td>0</td>\n",
       "      <td>0</td>\n",
       "      <td>1.15135E+18</td>\n",
       "      <td>21:25:13</td>\n",
       "      <td>Wow, my dad yday: “you don’t take those stupid...</td>\n",
       "      <td>[]</td>\n",
       "      <td>[]</td>\n",
       "      <td>Wow, dad yday: “you don’t take stupid depressi...</td>\n",
       "    </tr>\n",
       "    <tr>\n",
       "      <th>1</th>\n",
       "      <td>1</td>\n",
       "      <td>1</td>\n",
       "      <td>1.15135E+18</td>\n",
       "      <td>21:25:07</td>\n",
       "      <td>what part of this was really harmfult of a lot...</td>\n",
       "      <td>[]</td>\n",
       "      <td>[]</td>\n",
       "      <td>part really harmfult lot people went every gui...</td>\n",
       "    </tr>\n",
       "    <tr>\n",
       "      <th>2</th>\n",
       "      <td>2</td>\n",
       "      <td>2</td>\n",
       "      <td>1.15135E+18</td>\n",
       "      <td>21:25:06</td>\n",
       "      <td>one of the ways I got through my #depression i...</td>\n",
       "      <td>['#depression', '#uncoveringthenewu', '#change...</td>\n",
       "      <td>[]</td>\n",
       "      <td>one ways I got #depression learning dance rain...</td>\n",
       "    </tr>\n",
       "    <tr>\n",
       "      <th>3</th>\n",
       "      <td>3</td>\n",
       "      <td>3</td>\n",
       "      <td>1.15135E+18</td>\n",
       "      <td>21:24:55</td>\n",
       "      <td>see i wanna do one of them but they all say th...</td>\n",
       "      <td>[]</td>\n",
       "      <td>[]</td>\n",
       "      <td>see wanna one say PTSD, depression, and/or anx...</td>\n",
       "    </tr>\n",
       "    <tr>\n",
       "      <th>4</th>\n",
       "      <td>4</td>\n",
       "      <td>4</td>\n",
       "      <td>1.15135E+18</td>\n",
       "      <td>21:24:51</td>\n",
       "      <td>IS IT clinical depression or is it the palpabl...</td>\n",
       "      <td>[]</td>\n",
       "      <td>[]</td>\n",
       "      <td>IS IT clinical depression palpable hopelessnes...</td>\n",
       "    </tr>\n",
       "  </tbody>\n",
       "</table>\n",
       "</div>"
      ],
      "text/plain": [
       "   Unnamed: 0 Unnamed: 0.1           id      time  \\\n",
       "0           0            0  1.15135E+18  21:25:13   \n",
       "1           1            1  1.15135E+18  21:25:07   \n",
       "2           2            2  1.15135E+18  21:25:06   \n",
       "3           3            3  1.15135E+18  21:24:55   \n",
       "4           4            4  1.15135E+18  21:24:51   \n",
       "\n",
       "                                               tweet  \\\n",
       "0  Wow, my dad yday: “you don’t take those stupid...   \n",
       "1  what part of this was really harmfult of a lot...   \n",
       "2  one of the ways I got through my #depression i...   \n",
       "3  see i wanna do one of them but they all say th...   \n",
       "4  IS IT clinical depression or is it the palpabl...   \n",
       "\n",
       "                                            hashtags cashtags  \\\n",
       "0                                                 []       []   \n",
       "1                                                 []       []   \n",
       "2  ['#depression', '#uncoveringthenewu', '#change...       []   \n",
       "3                                                 []       []   \n",
       "4                                                 []       []   \n",
       "\n",
       "                                         clean_tweet  \n",
       "0  Wow, dad yday: “you don’t take stupid depressi...  \n",
       "1  part really harmfult lot people went every gui...  \n",
       "2  one ways I got #depression learning dance rain...  \n",
       "3  see wanna one say PTSD, depression, and/or anx...  \n",
       "4  IS IT clinical depression palpable hopelessnes...  "
      ]
     },
     "execution_count": 112,
     "metadata": {},
     "output_type": "execute_result"
    }
   ],
   "source": [
    "df_new.head()"
   ]
  },
  {
   "cell_type": "code",
   "execution_count": 113,
   "metadata": {},
   "outputs": [],
   "source": [
    "df_new['vader_score'] = df_new['clean_tweet'].apply(lambda x: analyzer.polarity_scores(x)['compound'])"
   ]
  },
  {
   "cell_type": "code",
   "execution_count": 114,
   "metadata": {},
   "outputs": [
    {
     "data": {
      "text/html": [
       "<div>\n",
       "<style scoped>\n",
       "    .dataframe tbody tr th:only-of-type {\n",
       "        vertical-align: middle;\n",
       "    }\n",
       "\n",
       "    .dataframe tbody tr th {\n",
       "        vertical-align: top;\n",
       "    }\n",
       "\n",
       "    .dataframe thead th {\n",
       "        text-align: right;\n",
       "    }\n",
       "</style>\n",
       "<table border=\"1\" class=\"dataframe\">\n",
       "  <thead>\n",
       "    <tr style=\"text-align: right;\">\n",
       "      <th></th>\n",
       "      <th>Unnamed: 0</th>\n",
       "      <th>Unnamed: 0.1</th>\n",
       "      <th>id</th>\n",
       "      <th>time</th>\n",
       "      <th>tweet</th>\n",
       "      <th>hashtags</th>\n",
       "      <th>cashtags</th>\n",
       "      <th>clean_tweet</th>\n",
       "      <th>vader_score</th>\n",
       "    </tr>\n",
       "  </thead>\n",
       "  <tbody>\n",
       "    <tr>\n",
       "      <th>0</th>\n",
       "      <td>0</td>\n",
       "      <td>0</td>\n",
       "      <td>1.15135E+18</td>\n",
       "      <td>21:25:13</td>\n",
       "      <td>Wow, my dad yday: “you don’t take those stupid...</td>\n",
       "      <td>[]</td>\n",
       "      <td>[]</td>\n",
       "      <td>Wow, dad yday: “you don’t take stupid depressi...</td>\n",
       "      <td>-0.4122</td>\n",
       "    </tr>\n",
       "    <tr>\n",
       "      <th>1</th>\n",
       "      <td>1</td>\n",
       "      <td>1</td>\n",
       "      <td>1.15135E+18</td>\n",
       "      <td>21:25:07</td>\n",
       "      <td>what part of this was really harmfult of a lot...</td>\n",
       "      <td>[]</td>\n",
       "      <td>[]</td>\n",
       "      <td>part really harmfult lot people went every gui...</td>\n",
       "      <td>-0.8074</td>\n",
       "    </tr>\n",
       "    <tr>\n",
       "      <th>2</th>\n",
       "      <td>2</td>\n",
       "      <td>2</td>\n",
       "      <td>1.15135E+18</td>\n",
       "      <td>21:25:06</td>\n",
       "      <td>one of the ways I got through my #depression i...</td>\n",
       "      <td>['#depression', '#uncoveringthenewu', '#change...</td>\n",
       "      <td>[]</td>\n",
       "      <td>one ways I got #depression learning dance rain...</td>\n",
       "      <td>0.3382</td>\n",
       "    </tr>\n",
       "    <tr>\n",
       "      <th>3</th>\n",
       "      <td>3</td>\n",
       "      <td>3</td>\n",
       "      <td>1.15135E+18</td>\n",
       "      <td>21:24:55</td>\n",
       "      <td>see i wanna do one of them but they all say th...</td>\n",
       "      <td>[]</td>\n",
       "      <td>[]</td>\n",
       "      <td>see wanna one say PTSD, depression, and/or anx...</td>\n",
       "      <td>-0.4588</td>\n",
       "    </tr>\n",
       "    <tr>\n",
       "      <th>4</th>\n",
       "      <td>4</td>\n",
       "      <td>4</td>\n",
       "      <td>1.15135E+18</td>\n",
       "      <td>21:24:51</td>\n",
       "      <td>IS IT clinical depression or is it the palpabl...</td>\n",
       "      <td>[]</td>\n",
       "      <td>[]</td>\n",
       "      <td>IS IT clinical depression palpable hopelessnes...</td>\n",
       "      <td>-0.8316</td>\n",
       "    </tr>\n",
       "  </tbody>\n",
       "</table>\n",
       "</div>"
      ],
      "text/plain": [
       "   Unnamed: 0 Unnamed: 0.1           id      time  \\\n",
       "0           0            0  1.15135E+18  21:25:13   \n",
       "1           1            1  1.15135E+18  21:25:07   \n",
       "2           2            2  1.15135E+18  21:25:06   \n",
       "3           3            3  1.15135E+18  21:24:55   \n",
       "4           4            4  1.15135E+18  21:24:51   \n",
       "\n",
       "                                               tweet  \\\n",
       "0  Wow, my dad yday: “you don’t take those stupid...   \n",
       "1  what part of this was really harmfult of a lot...   \n",
       "2  one of the ways I got through my #depression i...   \n",
       "3  see i wanna do one of them but they all say th...   \n",
       "4  IS IT clinical depression or is it the palpabl...   \n",
       "\n",
       "                                            hashtags cashtags  \\\n",
       "0                                                 []       []   \n",
       "1                                                 []       []   \n",
       "2  ['#depression', '#uncoveringthenewu', '#change...       []   \n",
       "3                                                 []       []   \n",
       "4                                                 []       []   \n",
       "\n",
       "                                         clean_tweet  vader_score  \n",
       "0  Wow, dad yday: “you don’t take stupid depressi...      -0.4122  \n",
       "1  part really harmfult lot people went every gui...      -0.8074  \n",
       "2  one ways I got #depression learning dance rain...       0.3382  \n",
       "3  see wanna one say PTSD, depression, and/or anx...      -0.4588  \n",
       "4  IS IT clinical depression palpable hopelessnes...      -0.8316  "
      ]
     },
     "execution_count": 114,
     "metadata": {},
     "output_type": "execute_result"
    }
   ],
   "source": [
    "df_new.head()\n"
   ]
  },
  {
   "cell_type": "code",
   "execution_count": 118,
   "metadata": {},
   "outputs": [],
   "source": [
    "positive_num = len(df_new[df_new['vader_score'] >=0.05])\n",
    "#neutral_num = len(df_new[(df_new['vaderReviewScore'] >-0.05) & (df_new['vaderReviewScore']<0.05)])\n",
    "negative_num = len(df_new[df_new['vader_score']<0.05])"
   ]
  },
  {
   "cell_type": "code",
   "execution_count": 116,
   "metadata": {},
   "outputs": [
    {
     "data": {
      "text/plain": [
       "(34221, 126115)"
      ]
     },
     "execution_count": 116,
     "metadata": {},
     "output_type": "execute_result"
    }
   ],
   "source": [
    "#positive_num,neutral_num, negative_num\n",
    "positive_num, negative_num"
   ]
  },
  {
   "cell_type": "code",
   "execution_count": 117,
   "metadata": {
    "scrolled": true
   },
   "outputs": [],
   "source": [
    "df_new['vader_sentiment_label']= df_new['vader_score'].map(lambda x:int(1) if x>=0.05 else int(0))"
   ]
  },
  {
   "cell_type": "code",
   "execution_count": 119,
   "metadata": {},
   "outputs": [
    {
     "data": {
      "text/html": [
       "<div>\n",
       "<style scoped>\n",
       "    .dataframe tbody tr th:only-of-type {\n",
       "        vertical-align: middle;\n",
       "    }\n",
       "\n",
       "    .dataframe tbody tr th {\n",
       "        vertical-align: top;\n",
       "    }\n",
       "\n",
       "    .dataframe thead th {\n",
       "        text-align: right;\n",
       "    }\n",
       "</style>\n",
       "<table border=\"1\" class=\"dataframe\">\n",
       "  <thead>\n",
       "    <tr style=\"text-align: right;\">\n",
       "      <th></th>\n",
       "      <th>Unnamed: 0</th>\n",
       "      <th>Unnamed: 0.1</th>\n",
       "      <th>id</th>\n",
       "      <th>time</th>\n",
       "      <th>tweet</th>\n",
       "      <th>hashtags</th>\n",
       "      <th>cashtags</th>\n",
       "      <th>clean_tweet</th>\n",
       "      <th>vader_score</th>\n",
       "      <th>vader_sentiment_label</th>\n",
       "    </tr>\n",
       "  </thead>\n",
       "  <tbody>\n",
       "    <tr>\n",
       "      <th>0</th>\n",
       "      <td>0</td>\n",
       "      <td>0</td>\n",
       "      <td>1.15135E+18</td>\n",
       "      <td>21:25:13</td>\n",
       "      <td>Wow, my dad yday: “you don’t take those stupid...</td>\n",
       "      <td>[]</td>\n",
       "      <td>[]</td>\n",
       "      <td>Wow, dad yday: “you don’t take stupid depressi...</td>\n",
       "      <td>-0.4122</td>\n",
       "      <td>0</td>\n",
       "    </tr>\n",
       "    <tr>\n",
       "      <th>1</th>\n",
       "      <td>1</td>\n",
       "      <td>1</td>\n",
       "      <td>1.15135E+18</td>\n",
       "      <td>21:25:07</td>\n",
       "      <td>what part of this was really harmfult of a lot...</td>\n",
       "      <td>[]</td>\n",
       "      <td>[]</td>\n",
       "      <td>part really harmfult lot people went every gui...</td>\n",
       "      <td>-0.8074</td>\n",
       "      <td>0</td>\n",
       "    </tr>\n",
       "    <tr>\n",
       "      <th>2</th>\n",
       "      <td>2</td>\n",
       "      <td>2</td>\n",
       "      <td>1.15135E+18</td>\n",
       "      <td>21:25:06</td>\n",
       "      <td>one of the ways I got through my #depression i...</td>\n",
       "      <td>['#depression', '#uncoveringthenewu', '#change...</td>\n",
       "      <td>[]</td>\n",
       "      <td>one ways I got #depression learning dance rain...</td>\n",
       "      <td>0.3382</td>\n",
       "      <td>1</td>\n",
       "    </tr>\n",
       "    <tr>\n",
       "      <th>3</th>\n",
       "      <td>3</td>\n",
       "      <td>3</td>\n",
       "      <td>1.15135E+18</td>\n",
       "      <td>21:24:55</td>\n",
       "      <td>see i wanna do one of them but they all say th...</td>\n",
       "      <td>[]</td>\n",
       "      <td>[]</td>\n",
       "      <td>see wanna one say PTSD, depression, and/or anx...</td>\n",
       "      <td>-0.4588</td>\n",
       "      <td>0</td>\n",
       "    </tr>\n",
       "    <tr>\n",
       "      <th>4</th>\n",
       "      <td>4</td>\n",
       "      <td>4</td>\n",
       "      <td>1.15135E+18</td>\n",
       "      <td>21:24:51</td>\n",
       "      <td>IS IT clinical depression or is it the palpabl...</td>\n",
       "      <td>[]</td>\n",
       "      <td>[]</td>\n",
       "      <td>IS IT clinical depression palpable hopelessnes...</td>\n",
       "      <td>-0.8316</td>\n",
       "      <td>0</td>\n",
       "    </tr>\n",
       "  </tbody>\n",
       "</table>\n",
       "</div>"
      ],
      "text/plain": [
       "   Unnamed: 0 Unnamed: 0.1           id      time  \\\n",
       "0           0            0  1.15135E+18  21:25:13   \n",
       "1           1            1  1.15135E+18  21:25:07   \n",
       "2           2            2  1.15135E+18  21:25:06   \n",
       "3           3            3  1.15135E+18  21:24:55   \n",
       "4           4            4  1.15135E+18  21:24:51   \n",
       "\n",
       "                                               tweet  \\\n",
       "0  Wow, my dad yday: “you don’t take those stupid...   \n",
       "1  what part of this was really harmfult of a lot...   \n",
       "2  one of the ways I got through my #depression i...   \n",
       "3  see i wanna do one of them but they all say th...   \n",
       "4  IS IT clinical depression or is it the palpabl...   \n",
       "\n",
       "                                            hashtags cashtags  \\\n",
       "0                                                 []       []   \n",
       "1                                                 []       []   \n",
       "2  ['#depression', '#uncoveringthenewu', '#change...       []   \n",
       "3                                                 []       []   \n",
       "4                                                 []       []   \n",
       "\n",
       "                                         clean_tweet  vader_score  \\\n",
       "0  Wow, dad yday: “you don’t take stupid depressi...      -0.4122   \n",
       "1  part really harmfult lot people went every gui...      -0.8074   \n",
       "2  one ways I got #depression learning dance rain...       0.3382   \n",
       "3  see wanna one say PTSD, depression, and/or anx...      -0.4588   \n",
       "4  IS IT clinical depression palpable hopelessnes...      -0.8316   \n",
       "\n",
       "   vader_sentiment_label  \n",
       "0                      0  \n",
       "1                      0  \n",
       "2                      1  \n",
       "3                      0  \n",
       "4                      0  "
      ]
     },
     "execution_count": 119,
     "metadata": {},
     "output_type": "execute_result"
    }
   ],
   "source": [
    "df_new.head()"
   ]
  },
  {
   "cell_type": "code",
   "execution_count": 23,
   "metadata": {},
   "outputs": [],
   "source": [
    "#df_new.loc[df_new['vaderReviewScore'] >=0.00,\"vaderSentimentLabel\"] = 1\n",
    "#df_new.loc[df_new['vaderReviewScore']<=-0.00,\"vaderSentimentLabel\"] = 0"
   ]
  },
  {
   "cell_type": "code",
   "execution_count": 120,
   "metadata": {
    "scrolled": false
   },
   "outputs": [
    {
     "data": {
      "text/html": [
       "<div>\n",
       "<style scoped>\n",
       "    .dataframe tbody tr th:only-of-type {\n",
       "        vertical-align: middle;\n",
       "    }\n",
       "\n",
       "    .dataframe tbody tr th {\n",
       "        vertical-align: top;\n",
       "    }\n",
       "\n",
       "    .dataframe thead th {\n",
       "        text-align: right;\n",
       "    }\n",
       "</style>\n",
       "<table border=\"1\" class=\"dataframe\">\n",
       "  <thead>\n",
       "    <tr style=\"text-align: right;\">\n",
       "      <th></th>\n",
       "      <th>Unnamed: 0</th>\n",
       "      <th>Unnamed: 0.1</th>\n",
       "      <th>id</th>\n",
       "      <th>time</th>\n",
       "      <th>tweet</th>\n",
       "      <th>hashtags</th>\n",
       "      <th>cashtags</th>\n",
       "      <th>clean_tweet</th>\n",
       "      <th>vader_score</th>\n",
       "      <th>vader_sentiment_label</th>\n",
       "    </tr>\n",
       "  </thead>\n",
       "  <tbody>\n",
       "    <tr>\n",
       "      <th>0</th>\n",
       "      <td>0</td>\n",
       "      <td>0</td>\n",
       "      <td>1.15135E+18</td>\n",
       "      <td>21:25:13</td>\n",
       "      <td>Wow, my dad yday: “you don’t take those stupid...</td>\n",
       "      <td>[]</td>\n",
       "      <td>[]</td>\n",
       "      <td>Wow, dad yday: “you don’t take stupid depressi...</td>\n",
       "      <td>-0.4122</td>\n",
       "      <td>0</td>\n",
       "    </tr>\n",
       "    <tr>\n",
       "      <th>1</th>\n",
       "      <td>1</td>\n",
       "      <td>1</td>\n",
       "      <td>1.15135E+18</td>\n",
       "      <td>21:25:07</td>\n",
       "      <td>what part of this was really harmfult of a lot...</td>\n",
       "      <td>[]</td>\n",
       "      <td>[]</td>\n",
       "      <td>part really harmfult lot people went every gui...</td>\n",
       "      <td>-0.8074</td>\n",
       "      <td>0</td>\n",
       "    </tr>\n",
       "    <tr>\n",
       "      <th>2</th>\n",
       "      <td>2</td>\n",
       "      <td>2</td>\n",
       "      <td>1.15135E+18</td>\n",
       "      <td>21:25:06</td>\n",
       "      <td>one of the ways I got through my #depression i...</td>\n",
       "      <td>['#depression', '#uncoveringthenewu', '#change...</td>\n",
       "      <td>[]</td>\n",
       "      <td>one ways I got #depression learning dance rain...</td>\n",
       "      <td>0.3382</td>\n",
       "      <td>1</td>\n",
       "    </tr>\n",
       "    <tr>\n",
       "      <th>3</th>\n",
       "      <td>3</td>\n",
       "      <td>3</td>\n",
       "      <td>1.15135E+18</td>\n",
       "      <td>21:24:55</td>\n",
       "      <td>see i wanna do one of them but they all say th...</td>\n",
       "      <td>[]</td>\n",
       "      <td>[]</td>\n",
       "      <td>see wanna one say PTSD, depression, and/or anx...</td>\n",
       "      <td>-0.4588</td>\n",
       "      <td>0</td>\n",
       "    </tr>\n",
       "    <tr>\n",
       "      <th>4</th>\n",
       "      <td>4</td>\n",
       "      <td>4</td>\n",
       "      <td>1.15135E+18</td>\n",
       "      <td>21:24:51</td>\n",
       "      <td>IS IT clinical depression or is it the palpabl...</td>\n",
       "      <td>[]</td>\n",
       "      <td>[]</td>\n",
       "      <td>IS IT clinical depression palpable hopelessnes...</td>\n",
       "      <td>-0.8316</td>\n",
       "      <td>0</td>\n",
       "    </tr>\n",
       "  </tbody>\n",
       "</table>\n",
       "</div>"
      ],
      "text/plain": [
       "   Unnamed: 0 Unnamed: 0.1           id      time  \\\n",
       "0           0            0  1.15135E+18  21:25:13   \n",
       "1           1            1  1.15135E+18  21:25:07   \n",
       "2           2            2  1.15135E+18  21:25:06   \n",
       "3           3            3  1.15135E+18  21:24:55   \n",
       "4           4            4  1.15135E+18  21:24:51   \n",
       "\n",
       "                                               tweet  \\\n",
       "0  Wow, my dad yday: “you don’t take those stupid...   \n",
       "1  what part of this was really harmfult of a lot...   \n",
       "2  one of the ways I got through my #depression i...   \n",
       "3  see i wanna do one of them but they all say th...   \n",
       "4  IS IT clinical depression or is it the palpabl...   \n",
       "\n",
       "                                            hashtags cashtags  \\\n",
       "0                                                 []       []   \n",
       "1                                                 []       []   \n",
       "2  ['#depression', '#uncoveringthenewu', '#change...       []   \n",
       "3                                                 []       []   \n",
       "4                                                 []       []   \n",
       "\n",
       "                                         clean_tweet  vader_score  \\\n",
       "0  Wow, dad yday: “you don’t take stupid depressi...      -0.4122   \n",
       "1  part really harmfult lot people went every gui...      -0.8074   \n",
       "2  one ways I got #depression learning dance rain...       0.3382   \n",
       "3  see wanna one say PTSD, depression, and/or anx...      -0.4588   \n",
       "4  IS IT clinical depression palpable hopelessnes...      -0.8316   \n",
       "\n",
       "   vader_sentiment_label  \n",
       "0                      0  \n",
       "1                      0  \n",
       "2                      1  \n",
       "3                      0  \n",
       "4                      0  "
      ]
     },
     "execution_count": 120,
     "metadata": {},
     "output_type": "execute_result"
    }
   ],
   "source": [
    "df_new.head()"
   ]
  },
  {
   "cell_type": "code",
   "execution_count": 121,
   "metadata": {},
   "outputs": [],
   "source": [
    "df_new.drop(['Unnamed: 0.1', 'id', 'time', 'tweet', ], axis = 1, inplace = True)"
   ]
  },
  {
   "cell_type": "code",
   "execution_count": 5,
   "metadata": {},
   "outputs": [
    {
     "name": "stderr",
     "output_type": "stream",
     "text": [
      "WARNING: Ignoring invalid distribution -ensorflow (c:\\users\\user\\anaconda3\\envs\\py3\\lib\\site-packages)\n",
      "WARNING: Ignoring invalid distribution -ensorflow (c:\\users\\user\\anaconda3\\envs\\py3\\lib\\site-packages)\n",
      "ERROR: Could not find a version that satisfies the requirement df_new (from versions: none)\n",
      "ERROR: No matching distribution found for df_new\n",
      "WARNING: Ignoring invalid distribution -ensorflow (c:\\users\\user\\anaconda3\\envs\\py3\\lib\\site-packages)\n",
      "WARNING: Ignoring invalid distribution -ensorflow (c:\\users\\user\\anaconda3\\envs\\py3\\lib\\site-packages)\n",
      "WARNING: Ignoring invalid distribution -ensorflow (c:\\users\\user\\anaconda3\\envs\\py3\\lib\\site-packages)\n"
     ]
    }
   ],
   "source": []
  },
  {
   "cell_type": "code",
   "execution_count": 122,
   "metadata": {},
   "outputs": [],
   "source": [
    "df_new = df_new[['Unnamed: 0', 'vader_sentiment_label', 'vader_score', 'clean_tweet']]"
   ]
  },
  {
   "cell_type": "code",
   "execution_count": 123,
   "metadata": {},
   "outputs": [
    {
     "data": {
      "text/html": [
       "<div>\n",
       "<style scoped>\n",
       "    .dataframe tbody tr th:only-of-type {\n",
       "        vertical-align: middle;\n",
       "    }\n",
       "\n",
       "    .dataframe tbody tr th {\n",
       "        vertical-align: top;\n",
       "    }\n",
       "\n",
       "    .dataframe thead th {\n",
       "        text-align: right;\n",
       "    }\n",
       "</style>\n",
       "<table border=\"1\" class=\"dataframe\">\n",
       "  <thead>\n",
       "    <tr style=\"text-align: right;\">\n",
       "      <th></th>\n",
       "      <th>Unnamed: 0</th>\n",
       "      <th>vader_sentiment_label</th>\n",
       "      <th>vader_score</th>\n",
       "      <th>clean_tweet</th>\n",
       "    </tr>\n",
       "  </thead>\n",
       "  <tbody>\n",
       "    <tr>\n",
       "      <th>0</th>\n",
       "      <td>0</td>\n",
       "      <td>0</td>\n",
       "      <td>-0.4122</td>\n",
       "      <td>Wow, dad yday: “you don’t take stupid depressi...</td>\n",
       "    </tr>\n",
       "    <tr>\n",
       "      <th>1</th>\n",
       "      <td>1</td>\n",
       "      <td>0</td>\n",
       "      <td>-0.8074</td>\n",
       "      <td>part really harmfult lot people went every gui...</td>\n",
       "    </tr>\n",
       "    <tr>\n",
       "      <th>2</th>\n",
       "      <td>2</td>\n",
       "      <td>1</td>\n",
       "      <td>0.3382</td>\n",
       "      <td>one ways I got #depression learning dance rain...</td>\n",
       "    </tr>\n",
       "    <tr>\n",
       "      <th>3</th>\n",
       "      <td>3</td>\n",
       "      <td>0</td>\n",
       "      <td>-0.4588</td>\n",
       "      <td>see wanna one say PTSD, depression, and/or anx...</td>\n",
       "    </tr>\n",
       "    <tr>\n",
       "      <th>4</th>\n",
       "      <td>4</td>\n",
       "      <td>0</td>\n",
       "      <td>-0.8316</td>\n",
       "      <td>IS IT clinical depression palpable hopelessnes...</td>\n",
       "    </tr>\n",
       "  </tbody>\n",
       "</table>\n",
       "</div>"
      ],
      "text/plain": [
       "   Unnamed: 0  vader_sentiment_label  vader_score  \\\n",
       "0           0                      0      -0.4122   \n",
       "1           1                      0      -0.8074   \n",
       "2           2                      1       0.3382   \n",
       "3           3                      0      -0.4588   \n",
       "4           4                      0      -0.8316   \n",
       "\n",
       "                                         clean_tweet  \n",
       "0  Wow, dad yday: “you don’t take stupid depressi...  \n",
       "1  part really harmfult lot people went every gui...  \n",
       "2  one ways I got #depression learning dance rain...  \n",
       "3  see wanna one say PTSD, depression, and/or anx...  \n",
       "4  IS IT clinical depression palpable hopelessnes...  "
      ]
     },
     "execution_count": 123,
     "metadata": {},
     "output_type": "execute_result"
    }
   ],
   "source": [
    "df_new.head()"
   ]
  },
  {
   "cell_type": "code",
   "execution_count": 124,
   "metadata": {},
   "outputs": [],
   "source": [
    "positive_num = len(df_new[df_new['vader_score'] >=0.05])\n",
    "neutral_num = len(df_new[(df_new['vader_score'] >-0.05) & (df_new['vader_score']<0.05)])\n",
    "negative_num = len(df_new[df_new['vader_score']<=-0.05])"
   ]
  },
  {
   "cell_type": "code",
   "execution_count": 125,
   "metadata": {},
   "outputs": [
    {
     "data": {
      "text/plain": [
       "(34221, 33979, 92136)"
      ]
     },
     "execution_count": 125,
     "metadata": {},
     "output_type": "execute_result"
    }
   ],
   "source": [
    "positive_num,neutral_num, negative_num"
   ]
  },
  {
   "cell_type": "code",
   "execution_count": 126,
   "metadata": {},
   "outputs": [],
   "source": [
    "df_new.to_csv('vader_processed_final.csv')"
   ]
  },
  {
   "cell_type": "code",
   "execution_count": null,
   "metadata": {},
   "outputs": [],
   "source": []
  },
  {
   "cell_type": "code",
   "execution_count": 127,
   "metadata": {},
   "outputs": [],
   "source": [
    "\n",
    "import pandas as pd\n",
    "import numpy as np\n",
    "import matplotlib.pyplot as plt\n",
    "import seaborn as sns\n",
    "import itertools\n",
    "import collections\n",
    "\n",
    "import nltk\n",
    "from nltk.corpus import stopwords\n",
    "import re\n",
    "from nltk import bigrams\n",
    "import networkx as nx\n",
    "\n",
    "import warnings\n",
    "warnings.filterwarnings(\"ignore\")\n",
    "\n",
    "sns.set(font_scale=1.5)\n",
    "sns.set_style(\"whitegrid\")"
   ]
  },
  {
   "cell_type": "code",
   "execution_count": 27,
   "metadata": {},
   "outputs": [
    {
     "name": "stdout",
     "output_type": "stream",
     "text": [
      "Collecting networkx"
     ]
    },
    {
     "name": "stderr",
     "output_type": "stream",
     "text": [
      "WARNING: Ignoring invalid distribution -ensorflow (c:\\users\\user\\anaconda3\\envs\\py3\\lib\\site-packages)\n",
      "WARNING: Ignoring invalid distribution -ensorflow (c:\\users\\user\\anaconda3\\envs\\py3\\lib\\site-packages)\n",
      "WARNING: Ignoring invalid distribution -ensorflow (c:\\users\\user\\anaconda3\\envs\\py3\\lib\\site-packages)\n",
      "    WARNING: Ignoring invalid distribution -ensorflow (c:\\users\\user\\anaconda3\\envs\\py3\\lib\\site-packages)\n",
      "WARNING: Ignoring invalid distribution -ensorflow (c:\\users\\user\\anaconda3\\envs\\py3\\lib\\site-packages)\n",
      "WARNING: Ignoring invalid distribution -ensorflow (c:\\users\\user\\anaconda3\\envs\\py3\\lib\\site-packages)\n",
      "WARNING: Ignoring invalid distribution -ensorflow (c:\\users\\user\\anaconda3\\envs\\py3\\lib\\site-packages)\n",
      "WARNING: Ignoring invalid distribution -ensorflow (c:\\users\\user\\anaconda3\\envs\\py3\\lib\\site-packages)\n",
      "WARNING: Ignoring invalid distribution -ensorflow (c:\\users\\user\\anaconda3\\envs\\py3\\lib\\site-packages)\n"
     ]
    },
    {
     "name": "stdout",
     "output_type": "stream",
     "text": [
      "\n",
      "  Downloading networkx-2.5.1-py3-none-any.whl (1.6 MB)\n",
      "Collecting decorator<5,>=4.3\n",
      "  Downloading decorator-4.4.2-py2.py3-none-any.whl (9.2 kB)\n",
      "Installing collected packages: decorator, networkx\n",
      "  Attempting uninstall: decorator\n",
      "    Found existing installation: decorator 5.0.9\n",
      "    Uninstalling decorator-5.0.9:\n",
      "      Successfully uninstalled decorator-5.0.9\n",
      "Successfully installed decorator-4.4.2 networkx-2.5.1\n"
     ]
    }
   ],
   "source": []
  },
  {
   "cell_type": "code",
   "execution_count": 128,
   "metadata": {},
   "outputs": [],
   "source": [
    "df_new['text'] = df_new['clean_tweet']"
   ]
  },
  {
   "cell_type": "code",
   "execution_count": 129,
   "metadata": {},
   "outputs": [
    {
     "data": {
      "text/plain": [
       "0         Wow, dad yday: “you don’t take stupid depressi...\n",
       "1         part really harmfult lot people went every gui...\n",
       "2         one ways I got #depression learning dance rain...\n",
       "3         see wanna one say PTSD, depression, and/or anx...\n",
       "4         IS IT clinical depression palpable hopelessnes...\n",
       "                                ...                        \n",
       "160354                                      Depression real\n",
       "160355    Even though Tropical Depression Barry unleash ...\n",
       "160356    https://medtally.com/post/cluster-analysis-wit...\n",
       "160357    مش لاقى أى مبرر لل sudden depression attack ال...\n",
       "160358    New clinical trial #depression: Task Shifting ...\n",
       "Name: text, Length: 160336, dtype: object"
      ]
     },
     "execution_count": 129,
     "metadata": {},
     "output_type": "execute_result"
    }
   ],
   "source": [
    "df_new['text']"
   ]
  },
  {
   "cell_type": "code",
   "execution_count": 130,
   "metadata": {},
   "outputs": [],
   "source": [
    "def remove_url(txt):\n",
    "    \"\"\"Replace URLs found in a text string with nothing \n",
    "    (i.e. it will remove the URL from the string).\n",
    "\n",
    "    Parameters\n",
    "    ----------\n",
    "    txt : string\n",
    "        A text string that you want to parse and remove urls.\n",
    "\n",
    "    Returns\n",
    "    -------\n",
    "    The same txt string with url's removed.\n",
    "    \"\"\"\n",
    "\n",
    "    return \" \".join(re.sub(\"([^0-9A-Za-z \\t])|(\\w+:\\/\\/\\S+)\", \"\", txt).split())"
   ]
  },
  {
   "cell_type": "code",
   "execution_count": 131,
   "metadata": {},
   "outputs": [
    {
     "data": {
      "text/plain": [
       "['Wow dad yday you dont take stupid depression drugs anymore though you Because theyre absolute worst thing and never need them Aint great family supportive My moms sisters stance similar btw',\n",
       " 'part really harmfult lot people went every guideline understand 13rw horror show supposed insight depression mental illness overall helpful public narrative topic',\n",
       " 'one ways I got depression learning dance rain It source strength stronger circumstances UncoveringthenewU ChangeYourMindChangeYourCircumstances pictwittercom3vxKuQ0DvD',\n",
       " 'see wanna one say PTSD depression andor anxiety play LIKEE',\n",
       " 'IS IT clinical depression palpable hopelessness generation']"
      ]
     },
     "execution_count": 131,
     "metadata": {},
     "output_type": "execute_result"
    }
   ],
   "source": [
    "all_tweets_no_urls = [remove_url(tweet) for tweet in df_new['text']]\n",
    "all_tweets_no_urls[:5]"
   ]
  },
  {
   "cell_type": "code",
   "execution_count": 132,
   "metadata": {},
   "outputs": [],
   "source": [
    "#lower_case = [word.lower() for word in df_new['text']]\n",
    "sentences = df_new['text']"
   ]
  },
  {
   "cell_type": "code",
   "execution_count": 133,
   "metadata": {
    "scrolled": true
   },
   "outputs": [
    {
     "data": {
      "text/plain": [
       "['Wow',\n",
       " 'dad',\n",
       " 'yday',\n",
       " 'you',\n",
       " 'dont',\n",
       " 'take',\n",
       " 'stupid',\n",
       " 'depression',\n",
       " 'drugs',\n",
       " 'anymore',\n",
       " 'though',\n",
       " 'you',\n",
       " 'Because',\n",
       " 'theyre',\n",
       " 'absolute',\n",
       " 'worst',\n",
       " 'thing',\n",
       " 'and',\n",
       " 'never',\n",
       " 'need',\n",
       " 'them',\n",
       " 'Aint',\n",
       " 'great',\n",
       " 'family',\n",
       " 'supportive',\n",
       " 'My',\n",
       " 'moms',\n",
       " 'sisters',\n",
       " 'stance',\n",
       " 'similar',\n",
       " 'btw']"
      ]
     },
     "execution_count": 133,
     "metadata": {},
     "output_type": "execute_result"
    }
   ],
   "source": [
    "all_tweets_no_urls[0].split()"
   ]
  },
  {
   "cell_type": "code",
   "execution_count": 134,
   "metadata": {},
   "outputs": [
    {
     "data": {
      "text/plain": [
       "['wow',\n",
       " 'dad',\n",
       " 'yday',\n",
       " 'you',\n",
       " 'dont',\n",
       " 'take',\n",
       " 'stupid',\n",
       " 'depression',\n",
       " 'drugs',\n",
       " 'anymore',\n",
       " 'though',\n",
       " 'you',\n",
       " 'because',\n",
       " 'theyre',\n",
       " 'absolute',\n",
       " 'worst',\n",
       " 'thing',\n",
       " 'and',\n",
       " 'never',\n",
       " 'need',\n",
       " 'them',\n",
       " 'aint',\n",
       " 'great',\n",
       " 'family',\n",
       " 'supportive',\n",
       " 'my',\n",
       " 'moms',\n",
       " 'sisters',\n",
       " 'stance',\n",
       " 'similar',\n",
       " 'btw']"
      ]
     },
     "execution_count": 134,
     "metadata": {},
     "output_type": "execute_result"
    }
   ],
   "source": [
    "all_tweets_no_urls[0].lower().split()"
   ]
  },
  {
   "cell_type": "code",
   "execution_count": 135,
   "metadata": {},
   "outputs": [
    {
     "data": {
      "text/plain": [
       "[['wow',\n",
       "  'dad',\n",
       "  'yday',\n",
       "  'you',\n",
       "  'dont',\n",
       "  'take',\n",
       "  'stupid',\n",
       "  'depression',\n",
       "  'drugs',\n",
       "  'anymore',\n",
       "  'though',\n",
       "  'you',\n",
       "  'because',\n",
       "  'theyre',\n",
       "  'absolute',\n",
       "  'worst',\n",
       "  'thing',\n",
       "  'and',\n",
       "  'never',\n",
       "  'need',\n",
       "  'them',\n",
       "  'aint',\n",
       "  'great',\n",
       "  'family',\n",
       "  'supportive',\n",
       "  'my',\n",
       "  'moms',\n",
       "  'sisters',\n",
       "  'stance',\n",
       "  'similar',\n",
       "  'btw'],\n",
       " ['part',\n",
       "  'really',\n",
       "  'harmfult',\n",
       "  'lot',\n",
       "  'people',\n",
       "  'went',\n",
       "  'every',\n",
       "  'guideline',\n",
       "  'understand',\n",
       "  '13rw',\n",
       "  'horror',\n",
       "  'show',\n",
       "  'supposed',\n",
       "  'insight',\n",
       "  'depression',\n",
       "  'mental',\n",
       "  'illness',\n",
       "  'overall',\n",
       "  'helpful',\n",
       "  'public',\n",
       "  'narrative',\n",
       "  'topic']]"
      ]
     },
     "execution_count": 135,
     "metadata": {},
     "output_type": "execute_result"
    }
   ],
   "source": [
    "words_in_tweet = [tweet.lower().split() for tweet in all_tweets_no_urls]\n",
    "words_in_tweet[:2]"
   ]
  },
  {
   "cell_type": "code",
   "execution_count": 136,
   "metadata": {},
   "outputs": [
    {
     "data": {
      "text/plain": [
       "[('i', 54608),\n",
       " ('depression', 49082),\n",
       " ('lonely', 27847),\n",
       " ('im', 21362),\n",
       " ('suicide', 21196),\n",
       " ('depressed', 14155),\n",
       " ('like', 12483),\n",
       " ('people', 9691),\n",
       " ('the', 8016),\n",
       " ('you', 7913),\n",
       " ('its', 7898),\n",
       " ('feel', 7657),\n",
       " ('get', 7521),\n",
       " ('it', 7364),\n",
       " ('one', 6805)]"
      ]
     },
     "execution_count": 136,
     "metadata": {},
     "output_type": "execute_result"
    }
   ],
   "source": [
    "# List of all words across tweets\n",
    "all_words_no_urls = list(itertools.chain(*words_in_tweet))\n",
    "\n",
    "# Create counter\n",
    "counts_no_urls = collections.Counter(all_words_no_urls)\n",
    "\n",
    "counts_no_urls.most_common(15)"
   ]
  },
  {
   "cell_type": "code",
   "execution_count": 137,
   "metadata": {},
   "outputs": [
    {
     "data": {
      "text/html": [
       "<div>\n",
       "<style scoped>\n",
       "    .dataframe tbody tr th:only-of-type {\n",
       "        vertical-align: middle;\n",
       "    }\n",
       "\n",
       "    .dataframe tbody tr th {\n",
       "        vertical-align: top;\n",
       "    }\n",
       "\n",
       "    .dataframe thead th {\n",
       "        text-align: right;\n",
       "    }\n",
       "</style>\n",
       "<table border=\"1\" class=\"dataframe\">\n",
       "  <thead>\n",
       "    <tr style=\"text-align: right;\">\n",
       "      <th></th>\n",
       "      <th>words</th>\n",
       "      <th>count</th>\n",
       "    </tr>\n",
       "  </thead>\n",
       "  <tbody>\n",
       "    <tr>\n",
       "      <th>0</th>\n",
       "      <td>i</td>\n",
       "      <td>54608</td>\n",
       "    </tr>\n",
       "    <tr>\n",
       "      <th>1</th>\n",
       "      <td>depression</td>\n",
       "      <td>49082</td>\n",
       "    </tr>\n",
       "    <tr>\n",
       "      <th>2</th>\n",
       "      <td>lonely</td>\n",
       "      <td>27847</td>\n",
       "    </tr>\n",
       "    <tr>\n",
       "      <th>3</th>\n",
       "      <td>im</td>\n",
       "      <td>21362</td>\n",
       "    </tr>\n",
       "    <tr>\n",
       "      <th>4</th>\n",
       "      <td>suicide</td>\n",
       "      <td>21196</td>\n",
       "    </tr>\n",
       "  </tbody>\n",
       "</table>\n",
       "</div>"
      ],
      "text/plain": [
       "        words  count\n",
       "0           i  54608\n",
       "1  depression  49082\n",
       "2      lonely  27847\n",
       "3          im  21362\n",
       "4     suicide  21196"
      ]
     },
     "execution_count": 137,
     "metadata": {},
     "output_type": "execute_result"
    }
   ],
   "source": [
    "clean_tweets_no_urls = pd.DataFrame(counts_no_urls.most_common(15),\n",
    "                             columns=['words', 'count'])\n",
    "\n",
    "clean_tweets_no_urls.head()"
   ]
  },
  {
   "cell_type": "code",
   "execution_count": 138,
   "metadata": {},
   "outputs": [
    {
     "data": {
      "image/png": "[encoded data removed]",
      "text/plain": [
       "<Figure size 576x576 with 1 Axes>"
      ]
     },
     "metadata": {
      "image/png": {
       "height": 493,
       "width": 626
      }
     },
     "output_type": "display_data"
    }
   ],
   "source": [
    "fig, ax = plt.subplots(figsize=(8, 8))\n",
    "\n",
    "# Plot horizontal bar graph\n",
    "clean_tweets_no_urls.sort_values(by='count').plot.barh(x='words',\n",
    "                      y='count',\n",
    "                      ax=ax,\n",
    "                      color=\"purple\")\n",
    "\n",
    "ax.set_title(\"Common Words Found in Tweets (Including All Words)\")\n",
    "\n",
    "plt.show()\n"
   ]
  },
  {
   "cell_type": "code",
   "execution_count": 139,
   "metadata": {},
   "outputs": [
    {
     "data": {
      "text/plain": [
       "['the',\n",
       " 'was',\n",
       " 'same',\n",
       " 'but',\n",
       " 'very',\n",
       " 'aren',\n",
       " 'while',\n",
       " \"wasn't\",\n",
       " 'hadn',\n",
       " \"didn't\"]"
      ]
     },
     "execution_count": 139,
     "metadata": {},
     "output_type": "execute_result"
    }
   ],
   "source": [
    "stop_words = set(stopwords.words('english'))\n",
    "\n",
    "# View a few words from the set\n",
    "list(stop_words)[0:10]"
   ]
  },
  {
   "cell_type": "code",
   "execution_count": 140,
   "metadata": {},
   "outputs": [
    {
     "data": {
      "text/plain": [
       "['wow',\n",
       " 'dad',\n",
       " 'yday',\n",
       " 'you',\n",
       " 'dont',\n",
       " 'take',\n",
       " 'stupid',\n",
       " 'depression',\n",
       " 'drugs',\n",
       " 'anymore',\n",
       " 'though',\n",
       " 'you',\n",
       " 'because',\n",
       " 'theyre',\n",
       " 'absolute',\n",
       " 'worst',\n",
       " 'thing',\n",
       " 'and',\n",
       " 'never',\n",
       " 'need',\n",
       " 'them',\n",
       " 'aint',\n",
       " 'great',\n",
       " 'family',\n",
       " 'supportive',\n",
       " 'my',\n",
       " 'moms',\n",
       " 'sisters',\n",
       " 'stance',\n",
       " 'similar',\n",
       " 'btw']"
      ]
     },
     "execution_count": 140,
     "metadata": {},
     "output_type": "execute_result"
    }
   ],
   "source": [
    "words_in_tweet[0]\n"
   ]
  },
  {
   "cell_type": "code",
   "execution_count": 141,
   "metadata": {},
   "outputs": [
    {
     "data": {
      "text/plain": [
       "['wow',\n",
       " 'dad',\n",
       " 'yday',\n",
       " 'dont',\n",
       " 'take',\n",
       " 'stupid',\n",
       " 'depression',\n",
       " 'drugs',\n",
       " 'anymore',\n",
       " 'though',\n",
       " 'theyre',\n",
       " 'absolute',\n",
       " 'worst',\n",
       " 'thing',\n",
       " 'never',\n",
       " 'need',\n",
       " 'aint',\n",
       " 'great',\n",
       " 'family',\n",
       " 'supportive',\n",
       " 'moms',\n",
       " 'sisters',\n",
       " 'stance',\n",
       " 'similar',\n",
       " 'btw']"
      ]
     },
     "execution_count": 141,
     "metadata": {},
     "output_type": "execute_result"
    }
   ],
   "source": [
    "# Remove stop words from each tweet list of words\n",
    "tweets_nsw = [[word for word in tweet_words if not word in stop_words]\n",
    "              for tweet_words in words_in_tweet]\n",
    "\n",
    "tweets_nsw[0]"
   ]
  },
  {
   "cell_type": "code",
   "execution_count": 142,
   "metadata": {},
   "outputs": [
    {
     "data": {
      "text/plain": [
       "[('depression', 49082),\n",
       " ('lonely', 27847),\n",
       " ('im', 21362),\n",
       " ('suicide', 21196),\n",
       " ('depressed', 14155),\n",
       " ('like', 12483),\n",
       " ('people', 9691),\n",
       " ('feel', 7657),\n",
       " ('get', 7521),\n",
       " ('one', 6805),\n",
       " ('anxiety', 6555),\n",
       " ('know', 6524),\n",
       " ('dont', 6267),\n",
       " ('time', 6139),\n",
       " ('life', 5688)]"
      ]
     },
     "execution_count": 142,
     "metadata": {},
     "output_type": "execute_result"
    }
   ],
   "source": [
    "all_words_nsw = list(itertools.chain(*tweets_nsw))\n",
    "\n",
    "counts_nsw = collections.Counter(all_words_nsw)\n",
    "\n",
    "counts_nsw.most_common(15)"
   ]
  },
  {
   "cell_type": "code",
   "execution_count": 143,
   "metadata": {},
   "outputs": [
    {
     "data": {
      "image/png": "[encoded data removed]",
      "text/plain": [
       "<Figure size 576x576 with 1 Axes>"
      ]
     },
     "metadata": {
      "image/png": {
       "height": 493,
       "width": 634
      }
     },
     "output_type": "display_data"
    }
   ],
   "source": [
    "clean_tweets_nsw = pd.DataFrame(counts_nsw.most_common(15),\n",
    "                             columns=['words', 'count'])\n",
    "\n",
    "fig, ax = plt.subplots(figsize=(8, 8))\n",
    "\n",
    "# Plot horizontal bar graph\n",
    "clean_tweets_nsw.sort_values(by='count').plot.barh(x='words',\n",
    "                      y='count',\n",
    "                      ax=ax,\n",
    "                      color=\"purple\")\n",
    "\n",
    "ax.set_title(\"Common Words Found in Tweets (Without Stop Words)\")\n",
    "\n",
    "plt.show()"
   ]
  },
  {
   "cell_type": "code",
   "execution_count": 144,
   "metadata": {},
   "outputs": [],
   "source": [
    "collection_words = ['im', 'de', 'like', 'one']\n",
    "tweets_nsw_nc = [[w for w in word if not w in collection_words]\n",
    "                 for word in tweets_nsw]"
   ]
  },
  {
   "cell_type": "code",
   "execution_count": 145,
   "metadata": {},
   "outputs": [
    {
     "data": {
      "text/plain": [
       "['wow',\n",
       " 'dad',\n",
       " 'yday',\n",
       " 'dont',\n",
       " 'take',\n",
       " 'stupid',\n",
       " 'depression',\n",
       " 'drugs',\n",
       " 'anymore',\n",
       " 'though',\n",
       " 'theyre',\n",
       " 'absolute',\n",
       " 'worst',\n",
       " 'thing',\n",
       " 'never',\n",
       " 'need',\n",
       " 'aint',\n",
       " 'great',\n",
       " 'family',\n",
       " 'supportive',\n",
       " 'moms',\n",
       " 'sisters',\n",
       " 'stance',\n",
       " 'similar',\n",
       " 'btw']"
      ]
     },
     "execution_count": 145,
     "metadata": {},
     "output_type": "execute_result"
    }
   ],
   "source": [
    "tweets_nsw[0]\n"
   ]
  },
  {
   "cell_type": "code",
   "execution_count": 146,
   "metadata": {},
   "outputs": [
    {
     "data": {
      "text/plain": [
       "['wow',\n",
       " 'dad',\n",
       " 'yday',\n",
       " 'dont',\n",
       " 'take',\n",
       " 'stupid',\n",
       " 'depression',\n",
       " 'drugs',\n",
       " 'anymore',\n",
       " 'though',\n",
       " 'theyre',\n",
       " 'absolute',\n",
       " 'worst',\n",
       " 'thing',\n",
       " 'never',\n",
       " 'need',\n",
       " 'aint',\n",
       " 'great',\n",
       " 'family',\n",
       " 'supportive',\n",
       " 'moms',\n",
       " 'sisters',\n",
       " 'stance',\n",
       " 'similar',\n",
       " 'btw']"
      ]
     },
     "execution_count": 146,
     "metadata": {},
     "output_type": "execute_result"
    }
   ],
   "source": [
    "tweets_nsw_nc[0]\n"
   ]
  },
  {
   "cell_type": "code",
   "execution_count": 147,
   "metadata": {},
   "outputs": [
    {
     "data": {
      "text/plain": [
       "[('depression', 49082),\n",
       " ('lonely', 27847),\n",
       " ('suicide', 21196),\n",
       " ('depressed', 14155),\n",
       " ('people', 9691),\n",
       " ('feel', 7657),\n",
       " ('get', 7521),\n",
       " ('anxiety', 6555),\n",
       " ('know', 6524),\n",
       " ('dont', 6267),\n",
       " ('time', 6139),\n",
       " ('life', 5688),\n",
       " ('hopeless', 5650),\n",
       " ('really', 5229),\n",
       " ('love', 4733)]"
      ]
     },
     "execution_count": 147,
     "metadata": {},
     "output_type": "execute_result"
    }
   ],
   "source": [
    "# Flatten list of words in clean tweets\n",
    "all_words_nsw_nc = list(itertools.chain(*tweets_nsw_nc))\n",
    "\n",
    "# Create counter of words in clean tweets\n",
    "counts_nsw_nc = collections.Counter(all_words_nsw_nc)\n",
    "\n",
    "counts_nsw_nc.most_common(15)"
   ]
  },
  {
   "cell_type": "code",
   "execution_count": 148,
   "metadata": {},
   "outputs": [
    {
     "data": {
      "text/plain": [
       "125555"
      ]
     },
     "execution_count": 148,
     "metadata": {},
     "output_type": "execute_result"
    }
   ],
   "source": [
    "len(counts_nsw_nc)\n"
   ]
  },
  {
   "cell_type": "code",
   "execution_count": 149,
   "metadata": {},
   "outputs": [
    {
     "ename": "NameError",
     "evalue": "name 'mean' is not defined",
     "output_type": "error",
     "traceback": [
      "\u001b[1;31m---------------------------------------------------------------------------\u001b[0m",
      "\u001b[1;31mNameError\u001b[0m                                 Traceback (most recent call last)",
      "\u001b[1;32m<ipython-input-149-715b2d5de1f1>\u001b[0m in \u001b[0;36m<module>\u001b[1;34m\u001b[0m\n\u001b[1;32m----> 1\u001b[1;33m \u001b[0mmean\u001b[0m\u001b[1;33m(\u001b[0m\u001b[0mcounts_nsw_nc\u001b[0m\u001b[1;33m)\u001b[0m\u001b[1;33m\u001b[0m\u001b[1;33m\u001b[0m\u001b[0m\n\u001b[0m",
      "\u001b[1;31mNameError\u001b[0m: name 'mean' is not defined"
     ]
    }
   ],
   "source": [
    "mean(counts_nsw_nc)"
   ]
  },
  {
   "cell_type": "code",
   "execution_count": 85,
   "metadata": {},
   "outputs": [
    {
     "name": "stdout",
     "output_type": "stream",
     "text": [
      "Requirement already satisfied: statistics in c:\\users\\user\\anaconda3\\envs\\py3\\lib\\site-packages (1.0.3.5)"
     ]
    },
    {
     "name": "stderr",
     "output_type": "stream",
     "text": [
      "WARNING: Ignoring invalid distribution -ensorflow (c:\\users\\user\\anaconda3\\envs\\py3\\lib\\site-packages)\n",
      "WARNING: Ignoring invalid distribution -ensorflow (c:\\users\\user\\anaconda3\\envs\\py3\\lib\\site-packages)\n",
      "WARNING: Ignoring invalid distribution -ensorflow (c:\\users\\user\\anaconda3\\envs\\py3\\lib\\site-packages)\n",
      "WARNING: Ignoring invalid distribution -ensorflow (c:\\users\\user\\anaconda3\\envs\\py3\\lib\\site-packages)\n",
      "WARNING: Ignoring invalid distribution -ensorflow (c:\\users\\user\\anaconda3\\envs\\py3\\lib\\site-packages)\n",
      "WARNING: Ignoring invalid distribution -ensorflow (c:\\users\\user\\anaconda3\\envs\\py3\\lib\\site-packages)\n"
     ]
    },
    {
     "name": "stdout",
     "output_type": "stream",
     "text": [
      "\n",
      "Requirement already satisfied: docutils>=0.3 in c:\\users\\user\\anaconda3\\envs\\py3\\lib\\site-packages (from statistics) (0.17.1)\n"
     ]
    }
   ],
   "source": []
  },
  {
   "cell_type": "code",
   "execution_count": 150,
   "metadata": {},
   "outputs": [
    {
     "data": {
      "text/html": [
       "<div>\n",
       "<style scoped>\n",
       "    .dataframe tbody tr th:only-of-type {\n",
       "        vertical-align: middle;\n",
       "    }\n",
       "\n",
       "    .dataframe tbody tr th {\n",
       "        vertical-align: top;\n",
       "    }\n",
       "\n",
       "    .dataframe thead th {\n",
       "        text-align: right;\n",
       "    }\n",
       "</style>\n",
       "<table border=\"1\" class=\"dataframe\">\n",
       "  <thead>\n",
       "    <tr style=\"text-align: right;\">\n",
       "      <th></th>\n",
       "      <th>words</th>\n",
       "      <th>count</th>\n",
       "    </tr>\n",
       "  </thead>\n",
       "  <tbody>\n",
       "    <tr>\n",
       "      <th>0</th>\n",
       "      <td>depression</td>\n",
       "      <td>49082</td>\n",
       "    </tr>\n",
       "    <tr>\n",
       "      <th>1</th>\n",
       "      <td>lonely</td>\n",
       "      <td>27847</td>\n",
       "    </tr>\n",
       "    <tr>\n",
       "      <th>2</th>\n",
       "      <td>suicide</td>\n",
       "      <td>21196</td>\n",
       "    </tr>\n",
       "    <tr>\n",
       "      <th>3</th>\n",
       "      <td>depressed</td>\n",
       "      <td>14155</td>\n",
       "    </tr>\n",
       "    <tr>\n",
       "      <th>4</th>\n",
       "      <td>people</td>\n",
       "      <td>9691</td>\n",
       "    </tr>\n",
       "  </tbody>\n",
       "</table>\n",
       "</div>"
      ],
      "text/plain": [
       "        words  count\n",
       "0  depression  49082\n",
       "1      lonely  27847\n",
       "2     suicide  21196\n",
       "3   depressed  14155\n",
       "4      people   9691"
      ]
     },
     "execution_count": 150,
     "metadata": {},
     "output_type": "execute_result"
    }
   ],
   "source": [
    "clean_tweets_ncw = pd.DataFrame(counts_nsw_nc.most_common(15),\n",
    "                             columns=['words', 'count'])\n",
    "clean_tweets_ncw.head()\n"
   ]
  },
  {
   "cell_type": "code",
   "execution_count": 151,
   "metadata": {},
   "outputs": [
    {
     "data": {
      "image/png": "[encoded data removed]",
      "text/plain": [
       "<Figure size 576x576 with 1 Axes>"
      ]
     },
     "metadata": {
      "image/png": {
       "height": 493,
       "width": 649
      }
     },
     "output_type": "display_data"
    }
   ],
   "source": [
    "fig, ax = plt.subplots(figsize=(8, 8))\n",
    "\n",
    "# Plot horizontal bar graph\n",
    "clean_tweets_ncw.sort_values(by='count').plot.barh(x='words',\n",
    "                      y='count',\n",
    "                      ax=ax,\n",
    "                      color=\"purple\")\n",
    "\n",
    "ax.set_title(\"Common Words Found in Tweets (Without Stop or Collection Words)\")\n",
    "\n",
    "plt.show()"
   ]
  },
  {
   "cell_type": "code",
   "execution_count": 152,
   "metadata": {},
   "outputs": [
    {
     "data": {
      "text/plain": [
       "[('wow', 'dad'),\n",
       " ('dad', 'yday'),\n",
       " ('yday', 'dont'),\n",
       " ('dont', 'take'),\n",
       " ('take', 'stupid'),\n",
       " ('stupid', 'depression'),\n",
       " ('depression', 'drugs'),\n",
       " ('drugs', 'anymore'),\n",
       " ('anymore', 'though'),\n",
       " ('though', 'theyre'),\n",
       " ('theyre', 'absolute'),\n",
       " ('absolute', 'worst'),\n",
       " ('worst', 'thing'),\n",
       " ('thing', 'never'),\n",
       " ('never', 'need'),\n",
       " ('need', 'aint'),\n",
       " ('aint', 'great'),\n",
       " ('great', 'family'),\n",
       " ('family', 'supportive'),\n",
       " ('supportive', 'moms'),\n",
       " ('moms', 'sisters'),\n",
       " ('sisters', 'stance'),\n",
       " ('stance', 'similar'),\n",
       " ('similar', 'btw')]"
      ]
     },
     "execution_count": 152,
     "metadata": {},
     "output_type": "execute_result"
    }
   ],
   "source": [
    "from nltk import bigrams\n",
    "\n",
    "# Create list of lists containing bigrams in tweets\n",
    "terms_bigram = [list(bigrams(tweet)) for tweet in tweets_nsw_nc]\n",
    "\n",
    "# View bigrams for the first tweet\n",
    "terms_bigram[0]"
   ]
  },
  {
   "cell_type": "code",
   "execution_count": null,
   "metadata": {},
   "outputs": [],
   "source": []
  },
  {
   "cell_type": "code",
   "execution_count": 153,
   "metadata": {},
   "outputs": [
    {
     "data": {
      "text/plain": [
       "[(('anxiety', 'depression'), 2550),\n",
       " (('depression', 'anxiety'), 2406),\n",
       " (('afraid', 'loneliness'), 2321),\n",
       " (('feel', 'lonely'), 1781),\n",
       " (('seasonal', 'depression'), 1595),\n",
       " (('mental', 'health'), 1519),\n",
       " (('suicide', 'squad'), 1385),\n",
       " (('commit', 'suicide'), 1372),\n",
       " (('social', 'media'), 1365),\n",
       " (('great', 'depression'), 1036),\n",
       " (('committed', 'suicide'), 873),\n",
       " (('tropical', 'depression'), 861),\n",
       " (('cure', 'seasonal'), 847),\n",
       " (('feeling', 'lonely'), 831),\n",
       " (('cure', 'depression'), 779),\n",
       " (('part', 'eyeball'), 719),\n",
       " (('hopeless', 'romantic'), 674),\n",
       " (('suicide', 'bomber'), 660),\n",
       " (('removed', 'part'), 651),\n",
       " (('eyeball', 'cure'), 643)]"
      ]
     },
     "execution_count": 153,
     "metadata": {},
     "output_type": "execute_result"
    }
   ],
   "source": [
    "# Flatten list of bigrams in clean tweets\n",
    "bigrams = list(itertools.chain(*terms_bigram))\n",
    "\n",
    "# Create counter of words in clean bigrams\n",
    "bigram_counts = collections.Counter(bigrams)\n",
    "\n",
    "bigram_counts.most_common(20)"
   ]
  },
  {
   "cell_type": "code",
   "execution_count": 154,
   "metadata": {},
   "outputs": [
    {
     "data": {
      "text/html": [
       "<div>\n",
       "<style scoped>\n",
       "    .dataframe tbody tr th:only-of-type {\n",
       "        vertical-align: middle;\n",
       "    }\n",
       "\n",
       "    .dataframe tbody tr th {\n",
       "        vertical-align: top;\n",
       "    }\n",
       "\n",
       "    .dataframe thead th {\n",
       "        text-align: right;\n",
       "    }\n",
       "</style>\n",
       "<table border=\"1\" class=\"dataframe\">\n",
       "  <thead>\n",
       "    <tr style=\"text-align: right;\">\n",
       "      <th></th>\n",
       "      <th>bigram</th>\n",
       "      <th>count</th>\n",
       "    </tr>\n",
       "  </thead>\n",
       "  <tbody>\n",
       "    <tr>\n",
       "      <th>0</th>\n",
       "      <td>(anxiety, depression)</td>\n",
       "      <td>2550</td>\n",
       "    </tr>\n",
       "    <tr>\n",
       "      <th>1</th>\n",
       "      <td>(depression, anxiety)</td>\n",
       "      <td>2406</td>\n",
       "    </tr>\n",
       "    <tr>\n",
       "      <th>2</th>\n",
       "      <td>(afraid, loneliness)</td>\n",
       "      <td>2321</td>\n",
       "    </tr>\n",
       "    <tr>\n",
       "      <th>3</th>\n",
       "      <td>(feel, lonely)</td>\n",
       "      <td>1781</td>\n",
       "    </tr>\n",
       "    <tr>\n",
       "      <th>4</th>\n",
       "      <td>(seasonal, depression)</td>\n",
       "      <td>1595</td>\n",
       "    </tr>\n",
       "    <tr>\n",
       "      <th>5</th>\n",
       "      <td>(mental, health)</td>\n",
       "      <td>1519</td>\n",
       "    </tr>\n",
       "    <tr>\n",
       "      <th>6</th>\n",
       "      <td>(suicide, squad)</td>\n",
       "      <td>1385</td>\n",
       "    </tr>\n",
       "    <tr>\n",
       "      <th>7</th>\n",
       "      <td>(commit, suicide)</td>\n",
       "      <td>1372</td>\n",
       "    </tr>\n",
       "    <tr>\n",
       "      <th>8</th>\n",
       "      <td>(social, media)</td>\n",
       "      <td>1365</td>\n",
       "    </tr>\n",
       "    <tr>\n",
       "      <th>9</th>\n",
       "      <td>(great, depression)</td>\n",
       "      <td>1036</td>\n",
       "    </tr>\n",
       "    <tr>\n",
       "      <th>10</th>\n",
       "      <td>(committed, suicide)</td>\n",
       "      <td>873</td>\n",
       "    </tr>\n",
       "    <tr>\n",
       "      <th>11</th>\n",
       "      <td>(tropical, depression)</td>\n",
       "      <td>861</td>\n",
       "    </tr>\n",
       "    <tr>\n",
       "      <th>12</th>\n",
       "      <td>(cure, seasonal)</td>\n",
       "      <td>847</td>\n",
       "    </tr>\n",
       "    <tr>\n",
       "      <th>13</th>\n",
       "      <td>(feeling, lonely)</td>\n",
       "      <td>831</td>\n",
       "    </tr>\n",
       "    <tr>\n",
       "      <th>14</th>\n",
       "      <td>(cure, depression)</td>\n",
       "      <td>779</td>\n",
       "    </tr>\n",
       "    <tr>\n",
       "      <th>15</th>\n",
       "      <td>(part, eyeball)</td>\n",
       "      <td>719</td>\n",
       "    </tr>\n",
       "    <tr>\n",
       "      <th>16</th>\n",
       "      <td>(hopeless, romantic)</td>\n",
       "      <td>674</td>\n",
       "    </tr>\n",
       "    <tr>\n",
       "      <th>17</th>\n",
       "      <td>(suicide, bomber)</td>\n",
       "      <td>660</td>\n",
       "    </tr>\n",
       "    <tr>\n",
       "      <th>18</th>\n",
       "      <td>(removed, part)</td>\n",
       "      <td>651</td>\n",
       "    </tr>\n",
       "    <tr>\n",
       "      <th>19</th>\n",
       "      <td>(eyeball, cure)</td>\n",
       "      <td>643</td>\n",
       "    </tr>\n",
       "  </tbody>\n",
       "</table>\n",
       "</div>"
      ],
      "text/plain": [
       "                    bigram  count\n",
       "0    (anxiety, depression)   2550\n",
       "1    (depression, anxiety)   2406\n",
       "2     (afraid, loneliness)   2321\n",
       "3           (feel, lonely)   1781\n",
       "4   (seasonal, depression)   1595\n",
       "5         (mental, health)   1519\n",
       "6         (suicide, squad)   1385\n",
       "7        (commit, suicide)   1372\n",
       "8          (social, media)   1365\n",
       "9      (great, depression)   1036\n",
       "10    (committed, suicide)    873\n",
       "11  (tropical, depression)    861\n",
       "12        (cure, seasonal)    847\n",
       "13       (feeling, lonely)    831\n",
       "14      (cure, depression)    779\n",
       "15         (part, eyeball)    719\n",
       "16    (hopeless, romantic)    674\n",
       "17       (suicide, bomber)    660\n",
       "18         (removed, part)    651\n",
       "19         (eyeball, cure)    643"
      ]
     },
     "execution_count": 154,
     "metadata": {},
     "output_type": "execute_result"
    }
   ],
   "source": [
    "bigram_df = pd.DataFrame(bigram_counts.most_common(20),\n",
    "                             columns=['bigram', 'count'])\n",
    "\n",
    "bigram_df"
   ]
  },
  {
   "cell_type": "code",
   "execution_count": 155,
   "metadata": {},
   "outputs": [
    {
     "data": {
      "image/png": "[encoded data removed]",
      "text/plain": [
       "<Figure size 1008x864 with 1 Axes>"
      ]
     },
     "metadata": {
      "image/png": {
       "height": 675,
       "width": 950
      }
     },
     "output_type": "display_data"
    }
   ],
   "source": [
    "# Create dictionary of bigrams and their counts\n",
    "d = bigram_df.set_index('bigram').T.to_dict('records')\n",
    "# Create network plot \n",
    "G = nx.Graph()\n",
    "\n",
    "# Create connections between nodes\n",
    "for k, v in d[0].items():\n",
    "    G.add_edge(k[0], k[1], weight=(v * 10))\n",
    "\n",
    "fig, ax = plt.subplots(figsize=(14, 12))\n",
    "\n",
    "pos = nx.spring_layout(G, k=1)\n",
    "\n",
    "# Plot networks\n",
    "nx.draw_networkx(G, pos,\n",
    "                 font_size=16,\n",
    "                 width=3,\n",
    "                 edge_color='grey',\n",
    "                 node_color='purple',\n",
    "                 with_labels = False,\n",
    "                 ax=ax)\n",
    "\n",
    "# Create offset labels\n",
    "for key, value in pos.items():\n",
    "    x, y = value[0]+.135, value[1]+.045\n",
    "    ax.text(x, y,\n",
    "            s=key,\n",
    "            bbox=dict(facecolor='red', alpha=0.25),\n",
    "            horizontalalignment='center', fontsize=13)\n",
    "    \n",
    "plt.show()"
   ]
  },
  {
   "cell_type": "code",
   "execution_count": null,
   "metadata": {},
   "outputs": [],
   "source": []
  },
  {
   "cell_type": "code",
   "execution_count": 156,
   "metadata": {},
   "outputs": [],
   "source": [
    "train = pd.read_csv('depressive_unigram_tweets_final.csv')"
   ]
  },
  {
   "cell_type": "code",
   "execution_count": 157,
   "metadata": {},
   "outputs": [
    {
     "data": {
      "text/html": [
       "<div>\n",
       "<style scoped>\n",
       "    .dataframe tbody tr th:only-of-type {\n",
       "        vertical-align: middle;\n",
       "    }\n",
       "\n",
       "    .dataframe tbody tr th {\n",
       "        vertical-align: top;\n",
       "    }\n",
       "\n",
       "    .dataframe thead th {\n",
       "        text-align: right;\n",
       "    }\n",
       "</style>\n",
       "<table border=\"1\" class=\"dataframe\">\n",
       "  <thead>\n",
       "    <tr style=\"text-align: right;\">\n",
       "      <th></th>\n",
       "      <th>Unnamed: 0</th>\n",
       "      <th>Unnamed: 0.1</th>\n",
       "      <th>id</th>\n",
       "      <th>time</th>\n",
       "      <th>tweet</th>\n",
       "      <th>hashtags</th>\n",
       "      <th>cashtags</th>\n",
       "    </tr>\n",
       "  </thead>\n",
       "  <tbody>\n",
       "    <tr>\n",
       "      <th>0</th>\n",
       "      <td>0</td>\n",
       "      <td>0</td>\n",
       "      <td>1.15135E+18</td>\n",
       "      <td>21:25:13</td>\n",
       "      <td>Wow, my dad yday: “you don’t take those stupid...</td>\n",
       "      <td>[]</td>\n",
       "      <td>[]</td>\n",
       "    </tr>\n",
       "    <tr>\n",
       "      <th>1</th>\n",
       "      <td>1</td>\n",
       "      <td>1</td>\n",
       "      <td>1.15135E+18</td>\n",
       "      <td>21:25:07</td>\n",
       "      <td>what part of this was really harmfult of a lot...</td>\n",
       "      <td>[]</td>\n",
       "      <td>[]</td>\n",
       "    </tr>\n",
       "    <tr>\n",
       "      <th>2</th>\n",
       "      <td>2</td>\n",
       "      <td>2</td>\n",
       "      <td>1.15135E+18</td>\n",
       "      <td>21:25:06</td>\n",
       "      <td>one of the ways I got through my #depression i...</td>\n",
       "      <td>['#depression', '#uncoveringthenewu', '#change...</td>\n",
       "      <td>[]</td>\n",
       "    </tr>\n",
       "    <tr>\n",
       "      <th>3</th>\n",
       "      <td>3</td>\n",
       "      <td>3</td>\n",
       "      <td>1.15135E+18</td>\n",
       "      <td>21:24:55</td>\n",
       "      <td>see i wanna do one of them but they all say th...</td>\n",
       "      <td>[]</td>\n",
       "      <td>[]</td>\n",
       "    </tr>\n",
       "    <tr>\n",
       "      <th>4</th>\n",
       "      <td>4</td>\n",
       "      <td>4</td>\n",
       "      <td>1.15135E+18</td>\n",
       "      <td>21:24:51</td>\n",
       "      <td>IS IT clinical depression or is it the palpabl...</td>\n",
       "      <td>[]</td>\n",
       "      <td>[]</td>\n",
       "    </tr>\n",
       "  </tbody>\n",
       "</table>\n",
       "</div>"
      ],
      "text/plain": [
       "   Unnamed: 0 Unnamed: 0.1           id      time  \\\n",
       "0           0            0  1.15135E+18  21:25:13   \n",
       "1           1            1  1.15135E+18  21:25:07   \n",
       "2           2            2  1.15135E+18  21:25:06   \n",
       "3           3            3  1.15135E+18  21:24:55   \n",
       "4           4            4  1.15135E+18  21:24:51   \n",
       "\n",
       "                                               tweet  \\\n",
       "0  Wow, my dad yday: “you don’t take those stupid...   \n",
       "1  what part of this was really harmfult of a lot...   \n",
       "2  one of the ways I got through my #depression i...   \n",
       "3  see i wanna do one of them but they all say th...   \n",
       "4  IS IT clinical depression or is it the palpabl...   \n",
       "\n",
       "                                            hashtags cashtags  \n",
       "0                                                 []       []  \n",
       "1                                                 []       []  \n",
       "2  ['#depression', '#uncoveringthenewu', '#change...       []  \n",
       "3                                                 []       []  \n",
       "4                                                 []       []  "
      ]
     },
     "execution_count": 157,
     "metadata": {},
     "output_type": "execute_result"
    }
   ],
   "source": [
    "train.head()"
   ]
  },
  {
   "cell_type": "code",
   "execution_count": 158,
   "metadata": {},
   "outputs": [
    {
     "data": {
      "text/html": [
       "<div>\n",
       "<style scoped>\n",
       "    .dataframe tbody tr th:only-of-type {\n",
       "        vertical-align: middle;\n",
       "    }\n",
       "\n",
       "    .dataframe tbody tr th {\n",
       "        vertical-align: top;\n",
       "    }\n",
       "\n",
       "    .dataframe thead th {\n",
       "        text-align: right;\n",
       "    }\n",
       "</style>\n",
       "<table border=\"1\" class=\"dataframe\">\n",
       "  <thead>\n",
       "    <tr style=\"text-align: right;\">\n",
       "      <th></th>\n",
       "      <th>tweet</th>\n",
       "      <th>word_count</th>\n",
       "    </tr>\n",
       "  </thead>\n",
       "  <tbody>\n",
       "    <tr>\n",
       "      <th>0</th>\n",
       "      <td>Wow, my dad yday: “you don’t take those stupid...</td>\n",
       "      <td>50</td>\n",
       "    </tr>\n",
       "    <tr>\n",
       "      <th>1</th>\n",
       "      <td>what part of this was really harmfult of a lot...</td>\n",
       "      <td>51</td>\n",
       "    </tr>\n",
       "    <tr>\n",
       "      <th>2</th>\n",
       "      <td>one of the ways I got through my #depression i...</td>\n",
       "      <td>33</td>\n",
       "    </tr>\n",
       "    <tr>\n",
       "      <th>3</th>\n",
       "      <td>see i wanna do one of them but they all say th...</td>\n",
       "      <td>24</td>\n",
       "    </tr>\n",
       "    <tr>\n",
       "      <th>4</th>\n",
       "      <td>IS IT clinical depression or is it the palpabl...</td>\n",
       "      <td>13</td>\n",
       "    </tr>\n",
       "  </tbody>\n",
       "</table>\n",
       "</div>"
      ],
      "text/plain": [
       "                                               tweet  word_count\n",
       "0  Wow, my dad yday: “you don’t take those stupid...          50\n",
       "1  what part of this was really harmfult of a lot...          51\n",
       "2  one of the ways I got through my #depression i...          33\n",
       "3  see i wanna do one of them but they all say th...          24\n",
       "4  IS IT clinical depression or is it the palpabl...          13"
      ]
     },
     "execution_count": 158,
     "metadata": {},
     "output_type": "execute_result"
    }
   ],
   "source": [
    "train['word_count'] = train['tweet'].apply(lambda x: int(len(str(x).split(\" \"))))\n",
    "train[['tweet','word_count']].head()"
   ]
  },
  {
   "cell_type": "code",
   "execution_count": 159,
   "metadata": {},
   "outputs": [
    {
     "data": {
      "text/html": [
       "<div>\n",
       "<style scoped>\n",
       "    .dataframe tbody tr th:only-of-type {\n",
       "        vertical-align: middle;\n",
       "    }\n",
       "\n",
       "    .dataframe tbody tr th {\n",
       "        vertical-align: top;\n",
       "    }\n",
       "\n",
       "    .dataframe thead th {\n",
       "        text-align: right;\n",
       "    }\n",
       "</style>\n",
       "<table border=\"1\" class=\"dataframe\">\n",
       "  <thead>\n",
       "    <tr style=\"text-align: right;\">\n",
       "      <th></th>\n",
       "      <th>tweet</th>\n",
       "      <th>char_count</th>\n",
       "    </tr>\n",
       "  </thead>\n",
       "  <tbody>\n",
       "    <tr>\n",
       "      <th>0</th>\n",
       "      <td>Wow, my dad yday: “you don’t take those stupid...</td>\n",
       "      <td>278.0</td>\n",
       "    </tr>\n",
       "    <tr>\n",
       "      <th>1</th>\n",
       "      <td>what part of this was really harmfult of a lot...</td>\n",
       "      <td>274.0</td>\n",
       "    </tr>\n",
       "    <tr>\n",
       "      <th>2</th>\n",
       "      <td>one of the ways I got through my #depression i...</td>\n",
       "      <td>235.0</td>\n",
       "    </tr>\n",
       "    <tr>\n",
       "      <th>3</th>\n",
       "      <td>see i wanna do one of them but they all say th...</td>\n",
       "      <td>114.0</td>\n",
       "    </tr>\n",
       "    <tr>\n",
       "      <th>4</th>\n",
       "      <td>IS IT clinical depression or is it the palpabl...</td>\n",
       "      <td>78.0</td>\n",
       "    </tr>\n",
       "  </tbody>\n",
       "</table>\n",
       "</div>"
      ],
      "text/plain": [
       "                                               tweet  char_count\n",
       "0  Wow, my dad yday: “you don’t take those stupid...       278.0\n",
       "1  what part of this was really harmfult of a lot...       274.0\n",
       "2  one of the ways I got through my #depression i...       235.0\n",
       "3  see i wanna do one of them but they all say th...       114.0\n",
       "4  IS IT clinical depression or is it the palpabl...        78.0"
      ]
     },
     "execution_count": 159,
     "metadata": {},
     "output_type": "execute_result"
    }
   ],
   "source": [
    "train['char_count'] = train['tweet'].str.len() ## this also includes spaces\n",
    "train[['tweet','char_count']].head()"
   ]
  },
  {
   "cell_type": "code",
   "execution_count": 160,
   "metadata": {},
   "outputs": [
    {
     "data": {
      "text/plain": [
       "0    278.0\n",
       "1    274.0\n",
       "2    235.0\n",
       "3    114.0\n",
       "4     78.0\n",
       "Name: tweet, dtype: float64"
      ]
     },
     "execution_count": 160,
     "metadata": {},
     "output_type": "execute_result"
    }
   ],
   "source": [
    "char_count = train['tweet'].str.len() ## this also includes spaces\n",
    "char_count.head()"
   ]
  },
  {
   "cell_type": "code",
   "execution_count": 161,
   "metadata": {},
   "outputs": [
    {
     "data": {
      "text/plain": [
       "119.81889906196986"
      ]
     },
     "execution_count": 161,
     "metadata": {},
     "output_type": "execute_result"
    }
   ],
   "source": [
    "char_count.mean()"
   ]
  },
  {
   "cell_type": "code",
   "execution_count": 73,
   "metadata": {},
   "outputs": [
    {
     "data": {
      "text/plain": [
       "95.0"
      ]
     },
     "execution_count": 73,
     "metadata": {},
     "output_type": "execute_result"
    }
   ],
   "source": [
    "char_count.median()"
   ]
  },
  {
   "cell_type": "code",
   "execution_count": 74,
   "metadata": {},
   "outputs": [
    {
     "data": {
      "text/plain": [
       "0    27.0\n",
       "dtype: float64"
      ]
     },
     "execution_count": 74,
     "metadata": {},
     "output_type": "execute_result"
    }
   ],
   "source": [
    "char_count.mode()"
   ]
  },
  {
   "cell_type": "code",
   "execution_count": 75,
   "metadata": {},
   "outputs": [],
   "source": [
    "word_counts = train['tweet'].apply(lambda x: int(len(str(x).split(\" \"))))\n"
   ]
  },
  {
   "cell_type": "code",
   "execution_count": 76,
   "metadata": {},
   "outputs": [
    {
     "data": {
      "text/plain": [
       "0    50\n",
       "1    51\n",
       "2    33\n",
       "3    24\n",
       "4    13\n",
       "Name: tweet, dtype: int64"
      ]
     },
     "execution_count": 76,
     "metadata": {},
     "output_type": "execute_result"
    }
   ],
   "source": [
    "word_counts.head()"
   ]
  },
  {
   "cell_type": "code",
   "execution_count": 77,
   "metadata": {},
   "outputs": [
    {
     "data": {
      "text/plain": [
       "19.247525863843002"
      ]
     },
     "execution_count": 77,
     "metadata": {},
     "output_type": "execute_result"
    }
   ],
   "source": [
    "word_counts.mean()"
   ]
  },
  {
   "cell_type": "code",
   "execution_count": 78,
   "metadata": {},
   "outputs": [
    {
     "data": {
      "text/plain": [
       "15.0"
      ]
     },
     "execution_count": 78,
     "metadata": {},
     "output_type": "execute_result"
    }
   ],
   "source": [
    "word_counts.median()"
   ]
  },
  {
   "cell_type": "code",
   "execution_count": 79,
   "metadata": {},
   "outputs": [
    {
     "data": {
      "text/plain": [
       "0    1\n",
       "dtype: int64"
      ]
     },
     "execution_count": 79,
     "metadata": {},
     "output_type": "execute_result"
    }
   ],
   "source": [
    "word_counts.mode()"
   ]
  },
  {
   "cell_type": "code",
   "execution_count": null,
   "metadata": {},
   "outputs": [],
   "source": []
  },
  {
   "cell_type": "code",
   "execution_count": 80,
   "metadata": {},
   "outputs": [
    {
     "data": {
      "text/plain": [
       "(0.0, 300.0)"
      ]
     },
     "execution_count": 80,
     "metadata": {},
     "output_type": "execute_result"
    },
    {
     "data": {
      "image/png": "[encoded data removed]",
      "text/plain": [
       "<Figure size 432x288 with 1 Axes>"
      ]
     },
     "metadata": {
      "image/png": {
       "height": 296,
       "width": 479
      }
     },
     "output_type": "display_data"
    }
   ],
   "source": [
    "# Plot Histogram on x\n",
    "x = char_count\n",
    "plt.hist(x, bins=50)\n",
    "plt.gca().set(title='Characters', ylabel='Frequency', xlabel='characters');\n",
    "plt.xlim(0, 300)"
   ]
  },
  {
   "cell_type": "code",
   "execution_count": 82,
   "metadata": {},
   "outputs": [
    {
     "data": {
      "text/plain": [
       "(0.0, 100.0)"
      ]
     },
     "execution_count": 82,
     "metadata": {},
     "output_type": "execute_result"
    },
    {
     "data": {
      "image/png": "[encoded data removed]",
      "text/plain": [
       "<Figure size 432x288 with 1 Axes>"
      ]
     },
     "metadata": {
      "image/png": {
       "height": 296,
       "width": 479
      }
     },
     "output_type": "display_data"
    }
   ],
   "source": [
    "# Plot Histogram on x\n",
    "x = word_counts\n",
    "plt.hist(x, bins=50)\n",
    "plt.gca().set(title='Words', ylabel='Frequency', xlabel='words');\n",
    "plt.xlim(0, 100)"
   ]
  },
  {
   "cell_type": "code",
   "execution_count": null,
   "metadata": {},
   "outputs": [],
   "source": []
  }
 ],
 "metadata": {
  "kernelspec": {
   "display_name": "Python 3",
   "language": "python",
   "name": "python3"
  },
  "language_info": {
   "codemirror_mode": {
    "name": "ipython",
    "version": 3
   },
   "file_extension": ".py",
   "mimetype": "text/x-python",
   "name": "python",
   "nbconvert_exporter": "python",
   "pygments_lexer": "ipython3",
   "version": "3.6.13"
  }
 },
 "nbformat": 4,
 "nbformat_minor": 2
}
